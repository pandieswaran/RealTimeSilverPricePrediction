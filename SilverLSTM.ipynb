{
  "nbformat": 4,
  "nbformat_minor": 0,
  "metadata": {
    "colab": {
      "provenance": []
    },
    "kernelspec": {
      "name": "python3",
      "display_name": "Python 3"
    },
    "language_info": {
      "name": "python"
    }
  },
  "cells": [
    {
      "cell_type": "code",
      "source": [
        "#For getting a Realtime Data From the Yahoo Finance \n",
        "!pip install yfinance"
      ],
      "metadata": {
        "colab": {
          "base_uri": "https://localhost:8080/"
        },
        "id": "AY5HwQC43GMW",
        "outputId": "9081ec4c-55ba-4fdf-cf77-7b4b7a0d1060"
      },
      "execution_count": 2,
      "outputs": [
        {
          "output_type": "stream",
          "name": "stdout",
          "text": [
            "Looking in indexes: https://pypi.org/simple, https://us-python.pkg.dev/colab-wheels/public/simple/\n",
            "Collecting yfinance\n",
            "  Downloading yfinance-0.2.11-py2.py3-none-any.whl (59 kB)\n",
            "\u001b[2K     \u001b[90m━━━━━━━━━━━━━━━━━━━━━━━━━━━━━━━━━━━━━━━━\u001b[0m \u001b[32m59.2/59.2 KB\u001b[0m \u001b[31m2.5 MB/s\u001b[0m eta \u001b[36m0:00:00\u001b[0m\n",
            "\u001b[?25hRequirement already satisfied: pytz>=2022.5 in /usr/local/lib/python3.8/dist-packages (from yfinance) (2022.7.1)\n",
            "Collecting requests>=2.26\n",
            "  Downloading requests-2.28.2-py3-none-any.whl (62 kB)\n",
            "\u001b[2K     \u001b[90m━━━━━━━━━━━━━━━━━━━━━━━━━━━━━━━━━━━━━━━━\u001b[0m \u001b[32m62.8/62.8 KB\u001b[0m \u001b[31m5.3 MB/s\u001b[0m eta \u001b[36m0:00:00\u001b[0m\n",
            "\u001b[?25hCollecting frozendict>=2.3.4\n",
            "  Downloading frozendict-2.3.4-cp38-cp38-manylinux_2_17_x86_64.manylinux2014_x86_64.whl (110 kB)\n",
            "\u001b[2K     \u001b[90m━━━━━━━━━━━━━━━━━━━━━━━━━━━━━━━━━━━━━━\u001b[0m \u001b[32m111.0/111.0 KB\u001b[0m \u001b[31m11.5 MB/s\u001b[0m eta \u001b[36m0:00:00\u001b[0m\n",
            "\u001b[?25hCollecting html5lib>=1.1\n",
            "  Downloading html5lib-1.1-py2.py3-none-any.whl (112 kB)\n",
            "\u001b[2K     \u001b[90m━━━━━━━━━━━━━━━━━━━━━━━━━━━━━━━━━━━━━━\u001b[0m \u001b[32m112.2/112.2 KB\u001b[0m \u001b[31m11.9 MB/s\u001b[0m eta \u001b[36m0:00:00\u001b[0m\n",
            "\u001b[?25hRequirement already satisfied: lxml>=4.9.1 in /usr/local/lib/python3.8/dist-packages (from yfinance) (4.9.2)\n",
            "Requirement already satisfied: numpy>=1.16.5 in /usr/local/lib/python3.8/dist-packages (from yfinance) (1.21.6)\n",
            "Requirement already satisfied: multitasking>=0.0.7 in /usr/local/lib/python3.8/dist-packages (from yfinance) (0.0.11)\n",
            "Collecting cryptography>=3.3.2\n",
            "  Downloading cryptography-39.0.1-cp36-abi3-manylinux_2_28_x86_64.whl (4.2 MB)\n",
            "\u001b[2K     \u001b[90m━━━━━━━━━━━━━━━━━━━━━━━━━━━━━━━━━━━━━━━━\u001b[0m \u001b[32m4.2/4.2 MB\u001b[0m \u001b[31m53.5 MB/s\u001b[0m eta \u001b[36m0:00:00\u001b[0m\n",
            "\u001b[?25hCollecting beautifulsoup4>=4.11.1\n",
            "  Downloading beautifulsoup4-4.11.2-py3-none-any.whl (129 kB)\n",
            "\u001b[2K     \u001b[90m━━━━━━━━━━━━━━━━━━━━━━━━━━━━━━━━━━━━━━\u001b[0m \u001b[32m129.4/129.4 KB\u001b[0m \u001b[31m13.1 MB/s\u001b[0m eta \u001b[36m0:00:00\u001b[0m\n",
            "\u001b[?25hRequirement already satisfied: pandas>=1.3.0 in /usr/local/lib/python3.8/dist-packages (from yfinance) (1.3.5)\n",
            "Requirement already satisfied: appdirs>=1.4.4 in /usr/local/lib/python3.8/dist-packages (from yfinance) (1.4.4)\n",
            "Collecting soupsieve>1.2\n",
            "  Downloading soupsieve-2.4-py3-none-any.whl (37 kB)\n",
            "Requirement already satisfied: cffi>=1.12 in /usr/local/lib/python3.8/dist-packages (from cryptography>=3.3.2->yfinance) (1.15.1)\n",
            "Requirement already satisfied: six>=1.9 in /usr/local/lib/python3.8/dist-packages (from html5lib>=1.1->yfinance) (1.15.0)\n",
            "Requirement already satisfied: webencodings in /usr/local/lib/python3.8/dist-packages (from html5lib>=1.1->yfinance) (0.5.1)\n",
            "Requirement already satisfied: python-dateutil>=2.7.3 in /usr/local/lib/python3.8/dist-packages (from pandas>=1.3.0->yfinance) (2.8.2)\n",
            "Requirement already satisfied: certifi>=2017.4.17 in /usr/local/lib/python3.8/dist-packages (from requests>=2.26->yfinance) (2022.12.7)\n",
            "Requirement already satisfied: charset-normalizer<4,>=2 in /usr/local/lib/python3.8/dist-packages (from requests>=2.26->yfinance) (2.1.1)\n",
            "Requirement already satisfied: urllib3<1.27,>=1.21.1 in /usr/local/lib/python3.8/dist-packages (from requests>=2.26->yfinance) (1.24.3)\n",
            "Requirement already satisfied: idna<4,>=2.5 in /usr/local/lib/python3.8/dist-packages (from requests>=2.26->yfinance) (2.10)\n",
            "Requirement already satisfied: pycparser in /usr/local/lib/python3.8/dist-packages (from cffi>=1.12->cryptography>=3.3.2->yfinance) (2.21)\n",
            "Installing collected packages: soupsieve, requests, html5lib, frozendict, cryptography, beautifulsoup4, yfinance\n",
            "  Attempting uninstall: requests\n",
            "    Found existing installation: requests 2.25.1\n",
            "    Uninstalling requests-2.25.1:\n",
            "      Successfully uninstalled requests-2.25.1\n",
            "  Attempting uninstall: html5lib\n",
            "    Found existing installation: html5lib 1.0.1\n",
            "    Uninstalling html5lib-1.0.1:\n",
            "      Successfully uninstalled html5lib-1.0.1\n",
            "  Attempting uninstall: beautifulsoup4\n",
            "    Found existing installation: beautifulsoup4 4.6.3\n",
            "    Uninstalling beautifulsoup4-4.6.3:\n",
            "      Successfully uninstalled beautifulsoup4-4.6.3\n",
            "Successfully installed beautifulsoup4-4.11.2 cryptography-39.0.1 frozendict-2.3.4 html5lib-1.1 requests-2.28.2 soupsieve-2.4 yfinance-0.2.11\n"
          ]
        }
      ]
    },
    {
      "cell_type": "code",
      "source": [
        "#To get a Data from Website using YFinance Library\n",
        "import yfinance as yf\n",
        "\n",
        "msft = yf.Ticker(\"SI=F\")\n",
        "\n",
        "# get the historical market data Specific Date\n",
        "hist = msft.history(start=\"2020-01-01\", end=\"2023-12-31\")"
      ],
      "metadata": {
        "id": "KMJHFGcy4TB9"
      },
      "execution_count": 3,
      "outputs": []
    },
    {
      "cell_type": "code",
      "source": [
        "import pandas as pd"
      ],
      "metadata": {
        "id": "NxiQrb9y588n"
      },
      "execution_count": 4,
      "outputs": []
    },
    {
      "cell_type": "code",
      "source": [
        "#To get a CSV File \n",
        "hist.to_csv('Silver.csv')"
      ],
      "metadata": {
        "id": "Ji2elnv66ZCb"
      },
      "execution_count": 5,
      "outputs": []
    },
    {
      "cell_type": "code",
      "source": [
        "hist.head()"
      ],
      "metadata": {
        "colab": {
          "base_uri": "https://localhost:8080/",
          "height": 237
        },
        "id": "f4v4ZIhq6s7w",
        "outputId": "b9c5be1f-fd91-4cbf-f3e6-b4727fc5125f"
      },
      "execution_count": 6,
      "outputs": [
        {
          "output_type": "execute_result",
          "data": {
            "text/plain": [
              "                                Open       High        Low      Close  Volume  \\\n",
              "Date                                                                            \n",
              "2020-01-02 00:00:00-05:00  17.966000  17.990000  17.966000  17.966000       2   \n",
              "2020-01-03 00:00:00-05:00  18.110001  18.110001  17.965000  18.068001      83   \n",
              "2020-01-06 00:00:00-05:00  18.025000  18.105000  18.025000  18.097000       3   \n",
              "2020-01-07 00:00:00-05:00  18.014999  18.344999  18.014999  18.316000      33   \n",
              "2020-01-08 00:00:00-05:00  18.400000  18.504999  18.070000  18.087999      31   \n",
              "\n",
              "                           Dividends  Stock Splits  \n",
              "Date                                                \n",
              "2020-01-02 00:00:00-05:00        0.0           0.0  \n",
              "2020-01-03 00:00:00-05:00        0.0           0.0  \n",
              "2020-01-06 00:00:00-05:00        0.0           0.0  \n",
              "2020-01-07 00:00:00-05:00        0.0           0.0  \n",
              "2020-01-08 00:00:00-05:00        0.0           0.0  "
            ],
            "text/html": [
              "\n",
              "  <div id=\"df-6939f06d-de20-4b00-be92-b06432364c5b\">\n",
              "    <div class=\"colab-df-container\">\n",
              "      <div>\n",
              "<style scoped>\n",
              "    .dataframe tbody tr th:only-of-type {\n",
              "        vertical-align: middle;\n",
              "    }\n",
              "\n",
              "    .dataframe tbody tr th {\n",
              "        vertical-align: top;\n",
              "    }\n",
              "\n",
              "    .dataframe thead th {\n",
              "        text-align: right;\n",
              "    }\n",
              "</style>\n",
              "<table border=\"1\" class=\"dataframe\">\n",
              "  <thead>\n",
              "    <tr style=\"text-align: right;\">\n",
              "      <th></th>\n",
              "      <th>Open</th>\n",
              "      <th>High</th>\n",
              "      <th>Low</th>\n",
              "      <th>Close</th>\n",
              "      <th>Volume</th>\n",
              "      <th>Dividends</th>\n",
              "      <th>Stock Splits</th>\n",
              "    </tr>\n",
              "    <tr>\n",
              "      <th>Date</th>\n",
              "      <th></th>\n",
              "      <th></th>\n",
              "      <th></th>\n",
              "      <th></th>\n",
              "      <th></th>\n",
              "      <th></th>\n",
              "      <th></th>\n",
              "    </tr>\n",
              "  </thead>\n",
              "  <tbody>\n",
              "    <tr>\n",
              "      <th>2020-01-02 00:00:00-05:00</th>\n",
              "      <td>17.966000</td>\n",
              "      <td>17.990000</td>\n",
              "      <td>17.966000</td>\n",
              "      <td>17.966000</td>\n",
              "      <td>2</td>\n",
              "      <td>0.0</td>\n",
              "      <td>0.0</td>\n",
              "    </tr>\n",
              "    <tr>\n",
              "      <th>2020-01-03 00:00:00-05:00</th>\n",
              "      <td>18.110001</td>\n",
              "      <td>18.110001</td>\n",
              "      <td>17.965000</td>\n",
              "      <td>18.068001</td>\n",
              "      <td>83</td>\n",
              "      <td>0.0</td>\n",
              "      <td>0.0</td>\n",
              "    </tr>\n",
              "    <tr>\n",
              "      <th>2020-01-06 00:00:00-05:00</th>\n",
              "      <td>18.025000</td>\n",
              "      <td>18.105000</td>\n",
              "      <td>18.025000</td>\n",
              "      <td>18.097000</td>\n",
              "      <td>3</td>\n",
              "      <td>0.0</td>\n",
              "      <td>0.0</td>\n",
              "    </tr>\n",
              "    <tr>\n",
              "      <th>2020-01-07 00:00:00-05:00</th>\n",
              "      <td>18.014999</td>\n",
              "      <td>18.344999</td>\n",
              "      <td>18.014999</td>\n",
              "      <td>18.316000</td>\n",
              "      <td>33</td>\n",
              "      <td>0.0</td>\n",
              "      <td>0.0</td>\n",
              "    </tr>\n",
              "    <tr>\n",
              "      <th>2020-01-08 00:00:00-05:00</th>\n",
              "      <td>18.400000</td>\n",
              "      <td>18.504999</td>\n",
              "      <td>18.070000</td>\n",
              "      <td>18.087999</td>\n",
              "      <td>31</td>\n",
              "      <td>0.0</td>\n",
              "      <td>0.0</td>\n",
              "    </tr>\n",
              "  </tbody>\n",
              "</table>\n",
              "</div>\n",
              "      <button class=\"colab-df-convert\" onclick=\"convertToInteractive('df-6939f06d-de20-4b00-be92-b06432364c5b')\"\n",
              "              title=\"Convert this dataframe to an interactive table.\"\n",
              "              style=\"display:none;\">\n",
              "        \n",
              "  <svg xmlns=\"http://www.w3.org/2000/svg\" height=\"24px\"viewBox=\"0 0 24 24\"\n",
              "       width=\"24px\">\n",
              "    <path d=\"M0 0h24v24H0V0z\" fill=\"none\"/>\n",
              "    <path d=\"M18.56 5.44l.94 2.06.94-2.06 2.06-.94-2.06-.94-.94-2.06-.94 2.06-2.06.94zm-11 1L8.5 8.5l.94-2.06 2.06-.94-2.06-.94L8.5 2.5l-.94 2.06-2.06.94zm10 10l.94 2.06.94-2.06 2.06-.94-2.06-.94-.94-2.06-.94 2.06-2.06.94z\"/><path d=\"M17.41 7.96l-1.37-1.37c-.4-.4-.92-.59-1.43-.59-.52 0-1.04.2-1.43.59L10.3 9.45l-7.72 7.72c-.78.78-.78 2.05 0 2.83L4 21.41c.39.39.9.59 1.41.59.51 0 1.02-.2 1.41-.59l7.78-7.78 2.81-2.81c.8-.78.8-2.07 0-2.86zM5.41 20L4 18.59l7.72-7.72 1.47 1.35L5.41 20z\"/>\n",
              "  </svg>\n",
              "      </button>\n",
              "      \n",
              "  <style>\n",
              "    .colab-df-container {\n",
              "      display:flex;\n",
              "      flex-wrap:wrap;\n",
              "      gap: 12px;\n",
              "    }\n",
              "\n",
              "    .colab-df-convert {\n",
              "      background-color: #E8F0FE;\n",
              "      border: none;\n",
              "      border-radius: 50%;\n",
              "      cursor: pointer;\n",
              "      display: none;\n",
              "      fill: #1967D2;\n",
              "      height: 32px;\n",
              "      padding: 0 0 0 0;\n",
              "      width: 32px;\n",
              "    }\n",
              "\n",
              "    .colab-df-convert:hover {\n",
              "      background-color: #E2EBFA;\n",
              "      box-shadow: 0px 1px 2px rgba(60, 64, 67, 0.3), 0px 1px 3px 1px rgba(60, 64, 67, 0.15);\n",
              "      fill: #174EA6;\n",
              "    }\n",
              "\n",
              "    [theme=dark] .colab-df-convert {\n",
              "      background-color: #3B4455;\n",
              "      fill: #D2E3FC;\n",
              "    }\n",
              "\n",
              "    [theme=dark] .colab-df-convert:hover {\n",
              "      background-color: #434B5C;\n",
              "      box-shadow: 0px 1px 3px 1px rgba(0, 0, 0, 0.15);\n",
              "      filter: drop-shadow(0px 1px 2px rgba(0, 0, 0, 0.3));\n",
              "      fill: #FFFFFF;\n",
              "    }\n",
              "  </style>\n",
              "\n",
              "      <script>\n",
              "        const buttonEl =\n",
              "          document.querySelector('#df-6939f06d-de20-4b00-be92-b06432364c5b button.colab-df-convert');\n",
              "        buttonEl.style.display =\n",
              "          google.colab.kernel.accessAllowed ? 'block' : 'none';\n",
              "\n",
              "        async function convertToInteractive(key) {\n",
              "          const element = document.querySelector('#df-6939f06d-de20-4b00-be92-b06432364c5b');\n",
              "          const dataTable =\n",
              "            await google.colab.kernel.invokeFunction('convertToInteractive',\n",
              "                                                     [key], {});\n",
              "          if (!dataTable) return;\n",
              "\n",
              "          const docLinkHtml = 'Like what you see? Visit the ' +\n",
              "            '<a target=\"_blank\" href=https://colab.research.google.com/notebooks/data_table.ipynb>data table notebook</a>'\n",
              "            + ' to learn more about interactive tables.';\n",
              "          element.innerHTML = '';\n",
              "          dataTable['output_type'] = 'display_data';\n",
              "          await google.colab.output.renderOutput(dataTable, element);\n",
              "          const docLink = document.createElement('div');\n",
              "          docLink.innerHTML = docLinkHtml;\n",
              "          element.appendChild(docLink);\n",
              "        }\n",
              "      </script>\n",
              "    </div>\n",
              "  </div>\n",
              "  "
            ]
          },
          "metadata": {},
          "execution_count": 6
        }
      ]
    },
    {
      "cell_type": "code",
      "source": [
        "df1 = hist.reset_index()['Close']"
      ],
      "metadata": {
        "id": "JoQW57TQ60Md"
      },
      "execution_count": 7,
      "outputs": []
    },
    {
      "cell_type": "code",
      "source": [
        "df1.shape"
      ],
      "metadata": {
        "colab": {
          "base_uri": "https://localhost:8080/"
        },
        "id": "N9milGE17dz4",
        "outputId": "e1f76d76-735c-4f1f-c60e-289efcb1b34d"
      },
      "execution_count": 8,
      "outputs": [
        {
          "output_type": "execute_result",
          "data": {
            "text/plain": [
              "(788,)"
            ]
          },
          "metadata": {},
          "execution_count": 8
        }
      ]
    },
    {
      "cell_type": "code",
      "source": [
        "import matplotlib.pyplot as plt"
      ],
      "metadata": {
        "id": "VVjGuCU-7sAo"
      },
      "execution_count": 9,
      "outputs": []
    },
    {
      "cell_type": "code",
      "source": [
        "plt.plot(df1)"
      ],
      "metadata": {
        "colab": {
          "base_uri": "https://localhost:8080/",
          "height": 283
        },
        "id": "wdiPOVpL7t-P",
        "outputId": "6519e730-16ab-4683-cf3b-f6b3157c5613"
      },
      "execution_count": 10,
      "outputs": [
        {
          "output_type": "execute_result",
          "data": {
            "text/plain": [
              "[<matplotlib.lines.Line2D at 0x7f80f9c32520>]"
            ]
          },
          "metadata": {},
          "execution_count": 10
        },
        {
          "output_type": "display_data",
          "data": {
            "text/plain": [
              "<Figure size 432x288 with 1 Axes>"
            ],
            "image/png": "[encoded data removed]"
          },
          "metadata": {
            "needs_background": "light"
          }
        }
      ]
    },
    {
      "cell_type": "code",
      "source": [
        "#LSTM are sensitive to the scale of the data. So we apply MinMaxSCaler"
      ],
      "metadata": {
        "id": "aLdxOyQQ8A1B"
      },
      "execution_count": 11,
      "outputs": []
    },
    {
      "cell_type": "code",
      "source": [
        "import numpy as np"
      ],
      "metadata": {
        "id": "egWuOSM78NAc"
      },
      "execution_count": 12,
      "outputs": []
    },
    {
      "cell_type": "code",
      "source": [
        "from sklearn.preprocessing import MinMaxScaler\n",
        "\n",
        "Scaler = MinMaxScaler(feature_range=(0,1))\n",
        "\n",
        "df1 = Scaler.fit_transform(np.array(df1).reshape(-1,1))"
      ],
      "metadata": {
        "id": "gWEbag9w8PyE"
      },
      "execution_count": 13,
      "outputs": []
    },
    {
      "cell_type": "code",
      "source": [
        "#Splitting Dataset into Train and Test Split"
      ],
      "metadata": {
        "id": "oIgUn6fL8xMk"
      },
      "execution_count": 14,
      "outputs": []
    },
    {
      "cell_type": "code",
      "source": [
        "Training_Size = int(len(df1)*0.80)\n",
        "Test_Size = len(df1) - Training_Size\n",
        "Train_data , Test_data = df1[0:Training_Size,:] , df1[Training_Size:len(df1),:1]"
      ],
      "metadata": {
        "id": "ebhTR0fo86R-"
      },
      "execution_count": 15,
      "outputs": []
    },
    {
      "cell_type": "code",
      "source": [
        "Training_Size , Test_Size"
      ],
      "metadata": {
        "colab": {
          "base_uri": "https://localhost:8080/"
        },
        "id": "rE4VgBbt9wWs",
        "outputId": "e69c191b-e064-41d3-c99d-30e67cf67bbd"
      },
      "execution_count": 16,
      "outputs": [
        {
          "output_type": "execute_result",
          "data": {
            "text/plain": [
              "(630, 158)"
            ]
          },
          "metadata": {},
          "execution_count": 16
        }
      ]
    },
    {
      "cell_type": "code",
      "source": [
        "#Converting An Array Of Value into A Dataset Matrix\n",
        "import numpy\n",
        "def create_dataset(dataset, time_step = 1):\n",
        "    dataX , dataY = [] , []\n",
        "    for i in range(len(dataset)-time_step-1):\n",
        "      a = dataset[i:(i+time_step), 0 ]\n",
        "      dataX.append(a)\n",
        "      dataY.append(dataset[i + time_step,0])\n",
        "    return numpy.array(dataX) , numpy.array(dataY)"
      ],
      "metadata": {
        "id": "cCkjrZzC-Psq"
      },
      "execution_count": 17,
      "outputs": []
    },
    {
      "cell_type": "code",
      "source": [
        "#reshape into X=t t+1 t+2 t+3 t+4 and y=t+5\n",
        "time_step=100\n",
        "X_Train , Y_Train = create_dataset(Train_data,time_step)\n",
        "X_Test , Y_Test = create_dataset(Test_data,time_step)"
      ],
      "metadata": {
        "id": "qpqn3RMQ_tdE"
      },
      "execution_count": 18,
      "outputs": []
    },
    {
      "cell_type": "code",
      "source": [
        "#Print the 4 timeStep Features Array Value\n",
        "print(X_Train)"
      ],
      "metadata": {
        "colab": {
          "base_uri": "https://localhost:8080/"
        },
        "id": "Ikw0ZmNFAk1i",
        "outputId": "3c1259cc-d450-40b3-fb49-dcb82ce1775f"
      },
      "execution_count": 19,
      "outputs": [
        {
          "output_type": "stream",
          "name": "stdout",
          "text": [
            "[[0.35277131 0.35854616 0.36018797 ... 0.31704688 0.33567342 0.33006853]\n",
            " [0.35854616 0.36018797 0.37258676 ... 0.33567342 0.33006853 0.33691903]\n",
            " [0.36018797 0.37258676 0.35967838 ... 0.33006853 0.33691903 0.34875165]\n",
            " ...\n",
            " [0.621412   0.60238916 0.60805073 ... 0.52635449 0.53111017 0.53354471]\n",
            " [0.60238916 0.60805073 0.64207665 ... 0.53111017 0.53354471 0.51304992]\n",
            " [0.60805073 0.64207665 0.64881387 ... 0.53354471 0.51304992 0.50574642]]\n"
          ]
        }
      ]
    },
    {
      "cell_type": "code",
      "source": [
        "print(X_Train.shape) , print(Y_Train.shape)"
      ],
      "metadata": {
        "colab": {
          "base_uri": "https://localhost:8080/"
        },
        "id": "oznFZq3qAu-g",
        "outputId": "d674ceb4-0b7f-44de-99ff-5b061d436006"
      },
      "execution_count": 20,
      "outputs": [
        {
          "output_type": "stream",
          "name": "stdout",
          "text": [
            "(529, 100)\n",
            "(529,)\n"
          ]
        },
        {
          "output_type": "execute_result",
          "data": {
            "text/plain": [
              "(None, None)"
            ]
          },
          "metadata": {},
          "execution_count": 20
        }
      ]
    },
    {
      "cell_type": "code",
      "source": [
        "print(X_Test.shape) , print(Y_Test.shape)"
      ],
      "metadata": {
        "colab": {
          "base_uri": "https://localhost:8080/"
        },
        "id": "7Fwjt2FgA5nW",
        "outputId": "ead857fe-a140-4427-e0aa-e699c2b410da"
      },
      "execution_count": 21,
      "outputs": [
        {
          "output_type": "stream",
          "name": "stdout",
          "text": [
            "(57, 100)\n",
            "(57,)\n"
          ]
        },
        {
          "output_type": "execute_result",
          "data": {
            "text/plain": [
              "(None, None)"
            ]
          },
          "metadata": {},
          "execution_count": 21
        }
      ]
    },
    {
      "cell_type": "code",
      "source": [
        "#reshape input to  be [Sample , TimeStep ,Features] Which is required for LSTM \n",
        "X_Train = X_Train.reshape(X_Train.shape[0],X_Train.shape[1],1)\n",
        "X_Test = X_Test.reshape(X_Test.shape[0],X_Test.shape[1],1)"
      ],
      "metadata": {
        "id": "JDh8_uvCBGUq"
      },
      "execution_count": 22,
      "outputs": []
    },
    {
      "cell_type": "code",
      "source": [
        "#Create a The Stacked LSTM Model\n",
        "from tensorflow.keras.models import Sequential\n",
        "from tensorflow.keras.layers import Dense\n",
        "from tensorflow.keras.layers import LSTM"
      ],
      "metadata": {
        "id": "mFrmmytkBuYB"
      },
      "execution_count": 23,
      "outputs": []
    },
    {
      "cell_type": "code",
      "source": [
        "model = Sequential()\n",
        "model.add(LSTM(50,return_sequences = True , input_shape = (100,1)))\n",
        "model.add(LSTM(50,return_sequences = True))\n",
        "model.add(LSTM(50))\n",
        "model.add(Dense(1))\n",
        "model.compile(loss='mean_squared_error' , optimizer = 'adam')"
      ],
      "metadata": {
        "id": "vYEgRFFYCJDo"
      },
      "execution_count": 24,
      "outputs": []
    },
    {
      "cell_type": "code",
      "source": [
        "model.summary()"
      ],
      "metadata": {
        "colab": {
          "base_uri": "https://localhost:8080/"
        },
        "id": "vlZR2EzvSkt9",
        "outputId": "cea084bf-1ada-422e-dc5d-5c53d93dea4b"
      },
      "execution_count": 25,
      "outputs": [
        {
          "output_type": "stream",
          "name": "stdout",
          "text": [
            "Model: \"sequential\"\n",
            "_________________________________________________________________\n",
            " Layer (type)                Output Shape              Param #   \n",
            "=================================================================\n",
            " lstm (LSTM)                 (None, 100, 50)           10400     \n",
            "                                                                 \n",
            " lstm_1 (LSTM)               (None, 100, 50)           20200     \n",
            "                                                                 \n",
            " lstm_2 (LSTM)               (None, 50)                20200     \n",
            "                                                                 \n",
            " dense (Dense)               (None, 1)                 51        \n",
            "                                                                 \n",
            "=================================================================\n",
            "Total params: 50,851\n",
            "Trainable params: 50,851\n",
            "Non-trainable params: 0\n",
            "_________________________________________________________________\n"
          ]
        }
      ]
    },
    {
      "cell_type": "code",
      "source": [
        "model.fit(X_Train,Y_Train,validation_data=(X_Test,Y_Test), epochs=100,batch_size=64,verbose=1)"
      ],
      "metadata": {
        "colab": {
          "base_uri": "https://localhost:8080/"
        },
        "id": "WXsMFO-TSpyk",
        "outputId": "9f405f7f-2f78-41ac-f024-5aea787c4b61"
      },
      "execution_count": 26,
      "outputs": [
        {
          "output_type": "stream",
          "name": "stdout",
          "text": [
            "Epoch 1/100\n",
            "9/9 [==============================] - 22s 819ms/step - loss: 0.1964 - val_loss: 0.0367\n",
            "Epoch 2/100\n",
            "9/9 [==============================] - 2s 195ms/step - loss: 0.0239 - val_loss: 0.0138\n",
            "Epoch 3/100\n",
            "9/9 [==============================] - 2s 196ms/step - loss: 0.0120 - val_loss: 0.0134\n",
            "Epoch 4/100\n",
            "9/9 [==============================] - 2s 198ms/step - loss: 0.0101 - val_loss: 0.0026\n",
            "Epoch 5/100\n",
            "9/9 [==============================] - 2s 286ms/step - loss: 0.0079 - val_loss: 0.0043\n",
            "Epoch 6/100\n",
            "9/9 [==============================] - 2s 248ms/step - loss: 0.0070 - val_loss: 0.0024\n",
            "Epoch 7/100\n",
            "9/9 [==============================] - 2s 197ms/step - loss: 0.0067 - val_loss: 0.0030\n",
            "Epoch 8/100\n",
            "9/9 [==============================] - 2s 197ms/step - loss: 0.0063 - val_loss: 0.0026\n",
            "Epoch 9/100\n",
            "9/9 [==============================] - 2s 195ms/step - loss: 0.0061 - val_loss: 0.0029\n",
            "Epoch 10/100\n",
            "9/9 [==============================] - 2s 200ms/step - loss: 0.0060 - val_loss: 0.0026\n",
            "Epoch 11/100\n",
            "9/9 [==============================] - 2s 200ms/step - loss: 0.0059 - val_loss: 0.0027\n",
            "Epoch 12/100\n",
            "9/9 [==============================] - 3s 333ms/step - loss: 0.0057 - val_loss: 0.0028\n",
            "Epoch 13/100\n",
            "9/9 [==============================] - 2s 208ms/step - loss: 0.0056 - val_loss: 0.0025\n",
            "Epoch 14/100\n",
            "9/9 [==============================] - 2s 201ms/step - loss: 0.0055 - val_loss: 0.0027\n",
            "Epoch 15/100\n",
            "9/9 [==============================] - 2s 199ms/step - loss: 0.0055 - val_loss: 0.0028\n",
            "Epoch 16/100\n",
            "9/9 [==============================] - 2s 198ms/step - loss: 0.0053 - val_loss: 0.0023\n",
            "Epoch 17/100\n",
            "9/9 [==============================] - 2s 200ms/step - loss: 0.0053 - val_loss: 0.0034\n",
            "Epoch 18/100\n",
            "9/9 [==============================] - 2s 254ms/step - loss: 0.0054 - val_loss: 0.0023\n",
            "Epoch 19/100\n",
            "9/9 [==============================] - 3s 285ms/step - loss: 0.0050 - val_loss: 0.0023\n",
            "Epoch 20/100\n",
            "9/9 [==============================] - 2s 198ms/step - loss: 0.0050 - val_loss: 0.0023\n",
            "Epoch 21/100\n",
            "9/9 [==============================] - 2s 200ms/step - loss: 0.0047 - val_loss: 0.0028\n",
            "Epoch 22/100\n",
            "9/9 [==============================] - 2s 201ms/step - loss: 0.0048 - val_loss: 0.0024\n",
            "Epoch 23/100\n",
            "9/9 [==============================] - 2s 201ms/step - loss: 0.0045 - val_loss: 0.0022\n",
            "Epoch 24/100\n",
            "9/9 [==============================] - 2s 204ms/step - loss: 0.0044 - val_loss: 0.0025\n",
            "Epoch 25/100\n",
            "9/9 [==============================] - 3s 327ms/step - loss: 0.0042 - val_loss: 0.0020\n",
            "Epoch 26/100\n",
            "9/9 [==============================] - 2s 220ms/step - loss: 0.0042 - val_loss: 0.0021\n",
            "Epoch 27/100\n",
            "9/9 [==============================] - 2s 200ms/step - loss: 0.0046 - val_loss: 0.0029\n",
            "Epoch 28/100\n",
            "9/9 [==============================] - 2s 200ms/step - loss: 0.0051 - val_loss: 0.0024\n",
            "Epoch 29/100\n",
            "9/9 [==============================] - 2s 206ms/step - loss: 0.0042 - val_loss: 0.0020\n",
            "Epoch 30/100\n",
            "9/9 [==============================] - 2s 205ms/step - loss: 0.0040 - val_loss: 0.0019\n",
            "Epoch 31/100\n",
            "9/9 [==============================] - 2s 269ms/step - loss: 0.0039 - val_loss: 0.0020\n",
            "Epoch 32/100\n",
            "9/9 [==============================] - 3s 295ms/step - loss: 0.0039 - val_loss: 0.0024\n",
            "Epoch 33/100\n",
            "9/9 [==============================] - 2s 207ms/step - loss: 0.0040 - val_loss: 0.0025\n",
            "Epoch 34/100\n",
            "9/9 [==============================] - 2s 204ms/step - loss: 0.0037 - val_loss: 0.0022\n",
            "Epoch 35/100\n",
            "9/9 [==============================] - 2s 202ms/step - loss: 0.0036 - val_loss: 0.0018\n",
            "Epoch 36/100\n",
            "9/9 [==============================] - 2s 203ms/step - loss: 0.0035 - val_loss: 0.0021\n",
            "Epoch 37/100\n",
            "9/9 [==============================] - 2s 202ms/step - loss: 0.0036 - val_loss: 0.0028\n",
            "Epoch 38/100\n",
            "9/9 [==============================] - 3s 339ms/step - loss: 0.0035 - val_loss: 0.0020\n",
            "Epoch 39/100\n",
            "9/9 [==============================] - 2s 199ms/step - loss: 0.0034 - val_loss: 0.0019\n",
            "Epoch 40/100\n",
            "9/9 [==============================] - 2s 204ms/step - loss: 0.0034 - val_loss: 0.0014\n",
            "Epoch 41/100\n",
            "9/9 [==============================] - 2s 202ms/step - loss: 0.0036 - val_loss: 0.0015\n",
            "Epoch 42/100\n",
            "9/9 [==============================] - 3s 322ms/step - loss: 0.0033 - val_loss: 0.0014\n",
            "Epoch 43/100\n",
            "9/9 [==============================] - 3s 289ms/step - loss: 0.0037 - val_loss: 0.0029\n",
            "Epoch 44/100\n",
            "9/9 [==============================] - 3s 323ms/step - loss: 0.0038 - val_loss: 0.0027\n",
            "Epoch 45/100\n",
            "9/9 [==============================] - 2s 207ms/step - loss: 0.0035 - val_loss: 0.0021\n",
            "Epoch 46/100\n",
            "9/9 [==============================] - 2s 207ms/step - loss: 0.0032 - val_loss: 0.0019\n",
            "Epoch 47/100\n",
            "9/9 [==============================] - 2s 205ms/step - loss: 0.0034 - val_loss: 0.0014\n",
            "Epoch 48/100\n",
            "9/9 [==============================] - 2s 204ms/step - loss: 0.0032 - val_loss: 0.0014\n",
            "Epoch 49/100\n",
            "9/9 [==============================] - 2s 204ms/step - loss: 0.0031 - val_loss: 0.0014\n",
            "Epoch 50/100\n",
            "9/9 [==============================] - 3s 323ms/step - loss: 0.0031 - val_loss: 0.0017\n",
            "Epoch 51/100\n",
            "9/9 [==============================] - 2s 225ms/step - loss: 0.0030 - val_loss: 0.0017\n",
            "Epoch 52/100\n",
            "9/9 [==============================] - 2s 206ms/step - loss: 0.0030 - val_loss: 0.0014\n",
            "Epoch 53/100\n",
            "9/9 [==============================] - 2s 202ms/step - loss: 0.0029 - val_loss: 0.0013\n",
            "Epoch 54/100\n",
            "9/9 [==============================] - 2s 205ms/step - loss: 0.0031 - val_loss: 0.0018\n",
            "Epoch 55/100\n",
            "9/9 [==============================] - 2s 209ms/step - loss: 0.0031 - val_loss: 0.0023\n",
            "Epoch 56/100\n",
            "9/9 [==============================] - 2s 254ms/step - loss: 0.0030 - val_loss: 0.0015\n",
            "Epoch 57/100\n",
            "9/9 [==============================] - 3s 299ms/step - loss: 0.0030 - val_loss: 0.0024\n",
            "Epoch 58/100\n",
            "9/9 [==============================] - 2s 210ms/step - loss: 0.0031 - val_loss: 0.0024\n",
            "Epoch 59/100\n",
            "9/9 [==============================] - 2s 208ms/step - loss: 0.0030 - val_loss: 0.0015\n",
            "Epoch 60/100\n",
            "9/9 [==============================] - 2s 211ms/step - loss: 0.0028 - val_loss: 0.0014\n",
            "Epoch 61/100\n",
            "9/9 [==============================] - 2s 206ms/step - loss: 0.0028 - val_loss: 0.0013\n",
            "Epoch 62/100\n",
            "9/9 [==============================] - 2s 206ms/step - loss: 0.0028 - val_loss: 0.0018\n",
            "Epoch 63/100\n",
            "9/9 [==============================] - 3s 361ms/step - loss: 0.0027 - val_loss: 0.0027\n",
            "Epoch 64/100\n",
            "9/9 [==============================] - 3s 348ms/step - loss: 0.0030 - val_loss: 0.0015\n",
            "Epoch 65/100\n",
            "9/9 [==============================] - 2s 210ms/step - loss: 0.0029 - val_loss: 0.0012\n",
            "Epoch 66/100\n",
            "9/9 [==============================] - 2s 211ms/step - loss: 0.0028 - val_loss: 0.0021\n",
            "Epoch 67/100\n",
            "9/9 [==============================] - 2s 208ms/step - loss: 0.0028 - val_loss: 0.0013\n",
            "Epoch 68/100\n",
            "9/9 [==============================] - 2s 211ms/step - loss: 0.0027 - val_loss: 0.0020\n",
            "Epoch 69/100\n",
            "9/9 [==============================] - 2s 279ms/step - loss: 0.0026 - val_loss: 0.0015\n",
            "Epoch 70/100\n",
            "9/9 [==============================] - 3s 279ms/step - loss: 0.0025 - val_loss: 0.0013\n",
            "Epoch 71/100\n",
            "9/9 [==============================] - 2s 206ms/step - loss: 0.0026 - val_loss: 0.0013\n",
            "Epoch 72/100\n",
            "9/9 [==============================] - 2s 208ms/step - loss: 0.0030 - val_loss: 0.0014\n",
            "Epoch 73/100\n",
            "9/9 [==============================] - 2s 210ms/step - loss: 0.0027 - val_loss: 0.0019\n",
            "Epoch 74/100\n",
            "9/9 [==============================] - 2s 208ms/step - loss: 0.0026 - val_loss: 0.0019\n",
            "Epoch 75/100\n",
            "9/9 [==============================] - 2s 234ms/step - loss: 0.0026 - val_loss: 0.0013\n",
            "Epoch 76/100\n",
            "9/9 [==============================] - 3s 325ms/step - loss: 0.0025 - val_loss: 0.0012\n",
            "Epoch 77/100\n",
            "9/9 [==============================] - 2s 210ms/step - loss: 0.0024 - val_loss: 0.0011\n",
            "Epoch 78/100\n",
            "9/9 [==============================] - 2s 208ms/step - loss: 0.0025 - val_loss: 0.0014\n",
            "Epoch 79/100\n",
            "9/9 [==============================] - 2s 207ms/step - loss: 0.0024 - val_loss: 0.0011\n",
            "Epoch 80/100\n",
            "9/9 [==============================] - 2s 209ms/step - loss: 0.0025 - val_loss: 0.0020\n",
            "Epoch 81/100\n",
            "9/9 [==============================] - 2s 208ms/step - loss: 0.0025 - val_loss: 0.0011\n",
            "Epoch 82/100\n",
            "9/9 [==============================] - 3s 351ms/step - loss: 0.0025 - val_loss: 0.0024\n",
            "Epoch 83/100\n",
            "9/9 [==============================] - 2s 207ms/step - loss: 0.0026 - val_loss: 0.0011\n",
            "Epoch 84/100\n",
            "9/9 [==============================] - 2s 207ms/step - loss: 0.0024 - val_loss: 0.0011\n",
            "Epoch 85/100\n",
            "9/9 [==============================] - 2s 207ms/step - loss: 0.0023 - val_loss: 0.0014\n",
            "Epoch 86/100\n",
            "9/9 [==============================] - 2s 208ms/step - loss: 0.0024 - val_loss: 0.0011\n",
            "Epoch 87/100\n",
            "9/9 [==============================] - 2s 215ms/step - loss: 0.0023 - val_loss: 0.0012\n",
            "Epoch 88/100\n",
            "9/9 [==============================] - 3s 308ms/step - loss: 0.0023 - val_loss: 0.0010\n",
            "Epoch 89/100\n",
            "9/9 [==============================] - 2s 263ms/step - loss: 0.0023 - val_loss: 0.0012\n",
            "Epoch 90/100\n",
            "9/9 [==============================] - 2s 211ms/step - loss: 0.0021 - val_loss: 0.0010\n",
            "Epoch 91/100\n",
            "9/9 [==============================] - 2s 212ms/step - loss: 0.0021 - val_loss: 0.0017\n",
            "Epoch 92/100\n",
            "9/9 [==============================] - 2s 210ms/step - loss: 0.0026 - val_loss: 0.0012\n",
            "Epoch 93/100\n",
            "9/9 [==============================] - 2s 211ms/step - loss: 0.0026 - val_loss: 0.0030\n",
            "Epoch 94/100\n",
            "9/9 [==============================] - 2s 278ms/step - loss: 0.0029 - val_loss: 0.0011\n",
            "Epoch 95/100\n",
            "9/9 [==============================] - 3s 279ms/step - loss: 0.0023 - val_loss: 9.9156e-04\n",
            "Epoch 96/100\n",
            "9/9 [==============================] - 2s 209ms/step - loss: 0.0021 - val_loss: 0.0018\n",
            "Epoch 97/100\n",
            "9/9 [==============================] - 2s 210ms/step - loss: 0.0022 - val_loss: 0.0010\n",
            "Epoch 98/100\n",
            "9/9 [==============================] - 2s 205ms/step - loss: 0.0022 - val_loss: 0.0017\n",
            "Epoch 99/100\n",
            "9/9 [==============================] - 2s 208ms/step - loss: 0.0024 - val_loss: 9.8316e-04\n",
            "Epoch 100/100\n",
            "9/9 [==============================] - 2s 220ms/step - loss: 0.0023 - val_loss: 9.2888e-04\n"
          ]
        },
        {
          "output_type": "execute_result",
          "data": {
            "text/plain": [
              "<keras.callbacks.History at 0x7f80904277c0>"
            ]
          },
          "metadata": {},
          "execution_count": 26
        }
      ]
    },
    {
      "cell_type": "code",
      "source": [
        "import tensorflow as tf"
      ],
      "metadata": {
        "id": "jhqiREWPUlM4"
      },
      "execution_count": 27,
      "outputs": []
    },
    {
      "cell_type": "code",
      "source": [
        "#let do the prediction and check the performance metrics\n",
        "Train_Predict = model.predict(X_Train)\n",
        "Test_Predict = model.predict(X_Test)"
      ],
      "metadata": {
        "colab": {
          "base_uri": "https://localhost:8080/"
        },
        "id": "e9fwFGeVUpOL",
        "outputId": "875f48d7-bde1-4b6d-c9d7-e36aadab8084"
      },
      "execution_count": 28,
      "outputs": [
        {
          "output_type": "stream",
          "name": "stdout",
          "text": [
            "17/17 [==============================] - 3s 56ms/step\n",
            "2/2 [==============================] - 0s 54ms/step\n"
          ]
        }
      ]
    },
    {
      "cell_type": "code",
      "source": [
        "#Transform to original form\n",
        "Train_Predict = Scaler.inverse_transform(Train_Predict)\n",
        "Test_Predict = Scaler.inverse_transform(Test_Predict)"
      ],
      "metadata": {
        "id": "TJlz1TS8U-Km"
      },
      "execution_count": 29,
      "outputs": []
    },
    {
      "cell_type": "code",
      "source": [
        "#Calculate RMSE Performance Metric\n",
        "import math \n",
        "from sklearn.metrics import mean_squared_error\n",
        "math.sqrt(mean_squared_error(Y_Train,Train_Predict))"
      ],
      "metadata": {
        "colab": {
          "base_uri": "https://localhost:8080/"
        },
        "id": "zEPpWf6JVWP2",
        "outputId": "0c31c99c-cdcd-4303-e6a1-32841a9c1bc4"
      },
      "execution_count": 30,
      "outputs": [
        {
          "output_type": "execute_result",
          "data": {
            "text/plain": [
              "23.383009014321456"
            ]
          },
          "metadata": {},
          "execution_count": 30
        }
      ]
    },
    {
      "cell_type": "code",
      "source": [
        "#Test Data RMSE\n",
        "math.sqrt(mean_squared_error(Y_Test,Test_Predict))"
      ],
      "metadata": {
        "colab": {
          "base_uri": "https://localhost:8080/"
        },
        "id": "oFDhjohqVyMs",
        "outputId": "eca45c30-825c-4d33-ea65-5fb4453a6804"
      },
      "execution_count": 31,
      "outputs": [
        {
          "output_type": "execute_result",
          "data": {
            "text/plain": [
              "22.398532006983164"
            ]
          },
          "metadata": {},
          "execution_count": 31
        }
      ]
    },
    {
      "cell_type": "code",
      "source": [
        "#Plotting\n",
        "\n",
        "#shift train predictions for plotting\n",
        "\n",
        "look_back=100\n",
        "\n",
        "trainPredictPlot = numpy.empty_like(df1)\n",
        "\n",
        "trainPredictPlot[:, :] = np.nan # plot baseline and predictions\n",
        "\n",
        "trainPredictPlot[look_back: len(Train_Predict)+look_back, ] = Train_Predict\n",
        "\n",
        "#shift test predictions for plotting\n",
        "\n",
        "testPredictPlot = numpy.empty_like(df1)\n",
        "testPredictPlot[:, :]= numpy.nan\n",
        "testPredictPlot [len(Train_Predict)+(look_back*2)+1:len (df1)-1,] = Test_Predict\n",
        "\n",
        "plt.plot(Scaler.inverse_transform(df1))\n",
        "\n",
        "plt.plot(trainPredictPlot)\n",
        "\n",
        "plt.plot(testPredictPlot)\n",
        "\n",
        "plt.show()\n",
        "#Orange is Train Predict Data\n",
        "#Green is Test Predict Data"
      ],
      "metadata": {
        "colab": {
          "base_uri": "https://localhost:8080/",
          "height": 266
        },
        "id": "1VbIhkdXW1Yi",
        "outputId": "d46f67c7-9b6b-4082-ba6b-3280329f947c"
      },
      "execution_count": 32,
      "outputs": [
        {
          "output_type": "display_data",
          "data": {
            "text/plain": [
              "<Figure size 432x288 with 1 Axes>"
            ],
            "image/png": "[encoded data removed]"
          },
          "metadata": {
            "needs_background": "light"
          }
        }
      ]
    },
    {
      "cell_type": "code",
      "source": [
        "len(Test_data)"
      ],
      "metadata": {
        "colab": {
          "base_uri": "https://localhost:8080/"
        },
        "id": "ANkstfnlXtJG",
        "outputId": "e24ddb00-20f1-45b4-9c31-b3150d166b87"
      },
      "execution_count": 33,
      "outputs": [
        {
          "output_type": "execute_result",
          "data": {
            "text/plain": [
              "158"
            ]
          },
          "metadata": {},
          "execution_count": 33
        }
      ]
    },
    {
      "cell_type": "code",
      "source": [
        "X_Input = Test_data[58:].reshape(1,-1)"
      ],
      "metadata": {
        "id": "djkkVsjyX0_p"
      },
      "execution_count": 34,
      "outputs": []
    },
    {
      "cell_type": "code",
      "source": [
        "X_Input.shape"
      ],
      "metadata": {
        "colab": {
          "base_uri": "https://localhost:8080/"
        },
        "id": "PBU1656nYBxU",
        "outputId": "2683ae6b-6d8e-437a-c39d-023fab806d0f"
      },
      "execution_count": 35,
      "outputs": [
        {
          "output_type": "execute_result",
          "data": {
            "text/plain": [
              "(1, 100)"
            ]
          },
          "metadata": {},
          "execution_count": 35
        }
      ]
    },
    {
      "cell_type": "code",
      "source": [
        "temp_input = list(X_Input)\n",
        "temp_input = temp_input[0].tolist()"
      ],
      "metadata": {
        "id": "XcC7Q1ODYEsy"
      },
      "execution_count": 36,
      "outputs": []
    },
    {
      "cell_type": "code",
      "source": [
        "lst_output=[]\n",
        "\n",
        "n_steps=100 \n",
        "i = 0\n",
        "\n",
        "while (i < 30) :\n",
        "\n",
        "  if(len(temp_input)>100):\n",
        "\n",
        "    #print(temp_input)\n",
        "\n",
        "    x_input=np.array(temp_input[1:])\n",
        "\n",
        "    print(\"{} day input {}\".format(i,x_input))\n",
        "\n",
        "    x_input=x_input.reshape(1,-1)\n",
        "\n",
        "    x_input = x_input.reshape((1, n_steps, 1)) \n",
        "\n",
        "    #print(x_input)\n",
        "\n",
        "    yhat = model.predict(x_input, verbose=0)\n",
        "\n",
        "    print(\"{} day output {}\".format(i,yhat))\n",
        "\n",
        "    temp_input.extend(yhat[0].tolist())\n",
        "\n",
        "    temp_input=temp_input[1:]\n",
        "\n",
        "    #print(temp_input)\n",
        "\n",
        "    lst_output.extend(yhat.tolist())\n",
        "    i = i + 1\n",
        "  else:\n",
        "    X_Input = X_Input.reshape((1, n_steps,1)) \n",
        "    yhat = model.predict(X_Input, verbose=0) \n",
        "    print(yhat[0]) \n",
        "    temp_input.extend(yhat[0].tolist()) \n",
        "    print(len(temp_input))\n",
        "    lst_output.extend(yhat.tolist())\n",
        "    i = i + 1\n",
        "\n",
        "print(lst_output)"
      ],
      "metadata": {
        "colab": {
          "base_uri": "https://localhost:8080/"
        },
        "id": "dvBjPeM7HtrS",
        "outputId": "cd2f6fcf-3663-4147-bb97-b18cd8ba82e7"
      },
      "execution_count": 42,
      "outputs": [
        {
          "output_type": "stream",
          "name": "stdout",
          "text": [
            "[0.5647845]\n",
            "101\n",
            "1 day input [0.36924644 0.39976218 0.38928834 0.4090471  0.4973107  0.52663763\n",
            " 0.49504614 0.50161349 0.47879744 0.44278999 0.43548661 0.4044047\n",
            " 0.40327236 0.35554545 0.3928551  0.38702367 0.3737191  0.39240221\n",
            " 0.4137462  0.42116286 0.43050448 0.4384872  0.43837403 0.41963422\n",
            " 0.41838872 0.44941404 0.44528111 0.43599619 0.51265361 0.51876808\n",
            " 0.55154838 0.54141426 0.56287153 0.56111644 0.58636691 0.55279399\n",
            " 0.55307702 0.52199511 0.52318404 0.51599393 0.52646777 0.54475458\n",
            " 0.54860437 0.51944741 0.53609241 0.55568131 0.61722238 0.63992525\n",
            " 0.59242479 0.588122   0.62135531 0.64134062 0.66806315 0.65022923\n",
            " 0.68312292 0.69133209 0.64502066 0.64632275 0.63941567 0.69971123\n",
            " 0.69637091 0.66472284 0.68102811 0.69665405 0.67530995 0.69880534\n",
            " 0.68657641 0.6977297  0.68261334 0.65238063 0.68431185 0.6780841\n",
            " 0.66647793 0.65628711 0.6866331  0.70746762 0.69121892 0.66778012\n",
            " 0.68046194 0.68476474 0.66336406 0.67451734 0.68527432 0.69042631\n",
            " 0.66761026 0.6742909  0.68012222 0.66727054 0.66800657 0.6000679\n",
            " 0.59117929 0.58778239 0.60193627 0.58665005 0.58308329 0.57085436\n",
            " 0.57221303 0.55545487 0.55681365 0.56478453]\n",
            "1 day output [[0.56181073]]\n",
            "2 day input [0.39976218 0.38928834 0.4090471  0.4973107  0.52663763 0.49504614\n",
            " 0.50161349 0.47879744 0.44278999 0.43548661 0.4044047  0.40327236\n",
            " 0.35554545 0.3928551  0.38702367 0.3737191  0.39240221 0.4137462\n",
            " 0.42116286 0.43050448 0.4384872  0.43837403 0.41963422 0.41838872\n",
            " 0.44941404 0.44528111 0.43599619 0.51265361 0.51876808 0.55154838\n",
            " 0.54141426 0.56287153 0.56111644 0.58636691 0.55279399 0.55307702\n",
            " 0.52199511 0.52318404 0.51599393 0.52646777 0.54475458 0.54860437\n",
            " 0.51944741 0.53609241 0.55568131 0.61722238 0.63992525 0.59242479\n",
            " 0.588122   0.62135531 0.64134062 0.66806315 0.65022923 0.68312292\n",
            " 0.69133209 0.64502066 0.64632275 0.63941567 0.69971123 0.69637091\n",
            " 0.66472284 0.68102811 0.69665405 0.67530995 0.69880534 0.68657641\n",
            " 0.6977297  0.68261334 0.65238063 0.68431185 0.6780841  0.66647793\n",
            " 0.65628711 0.6866331  0.70746762 0.69121892 0.66778012 0.68046194\n",
            " 0.68476474 0.66336406 0.67451734 0.68527432 0.69042631 0.66761026\n",
            " 0.6742909  0.68012222 0.66727054 0.66800657 0.6000679  0.59117929\n",
            " 0.58778239 0.60193627 0.58665005 0.58308329 0.57085436 0.57221303\n",
            " 0.55545487 0.55681365 0.56478453 0.56181073]\n",
            "2 day output [[0.56032264]]\n",
            "3 day input [0.38928834 0.4090471  0.4973107  0.52663763 0.49504614 0.50161349\n",
            " 0.47879744 0.44278999 0.43548661 0.4044047  0.40327236 0.35554545\n",
            " 0.3928551  0.38702367 0.3737191  0.39240221 0.4137462  0.42116286\n",
            " 0.43050448 0.4384872  0.43837403 0.41963422 0.41838872 0.44941404\n",
            " 0.44528111 0.43599619 0.51265361 0.51876808 0.55154838 0.54141426\n",
            " 0.56287153 0.56111644 0.58636691 0.55279399 0.55307702 0.52199511\n",
            " 0.52318404 0.51599393 0.52646777 0.54475458 0.54860437 0.51944741\n",
            " 0.53609241 0.55568131 0.61722238 0.63992525 0.59242479 0.588122\n",
            " 0.62135531 0.64134062 0.66806315 0.65022923 0.68312292 0.69133209\n",
            " 0.64502066 0.64632275 0.63941567 0.69971123 0.69637091 0.66472284\n",
            " 0.68102811 0.69665405 0.67530995 0.69880534 0.68657641 0.6977297\n",
            " 0.68261334 0.65238063 0.68431185 0.6780841  0.66647793 0.65628711\n",
            " 0.6866331  0.70746762 0.69121892 0.66778012 0.68046194 0.68476474\n",
            " 0.66336406 0.67451734 0.68527432 0.69042631 0.66761026 0.6742909\n",
            " 0.68012222 0.66727054 0.66800657 0.6000679  0.59117929 0.58778239\n",
            " 0.60193627 0.58665005 0.58308329 0.57085436 0.57221303 0.55545487\n",
            " 0.55681365 0.56478453 0.56181073 0.56032264]\n",
            "3 day output [[0.5599426]]\n",
            "4 day input [0.4090471  0.4973107  0.52663763 0.49504614 0.50161349 0.47879744\n",
            " 0.44278999 0.43548661 0.4044047  0.40327236 0.35554545 0.3928551\n",
            " 0.38702367 0.3737191  0.39240221 0.4137462  0.42116286 0.43050448\n",
            " 0.4384872  0.43837403 0.41963422 0.41838872 0.44941404 0.44528111\n",
            " 0.43599619 0.51265361 0.51876808 0.55154838 0.54141426 0.56287153\n",
            " 0.56111644 0.58636691 0.55279399 0.55307702 0.52199511 0.52318404\n",
            " 0.51599393 0.52646777 0.54475458 0.54860437 0.51944741 0.53609241\n",
            " 0.55568131 0.61722238 0.63992525 0.59242479 0.588122   0.62135531\n",
            " 0.64134062 0.66806315 0.65022923 0.68312292 0.69133209 0.64502066\n",
            " 0.64632275 0.63941567 0.69971123 0.69637091 0.66472284 0.68102811\n",
            " 0.69665405 0.67530995 0.69880534 0.68657641 0.6977297  0.68261334\n",
            " 0.65238063 0.68431185 0.6780841  0.66647793 0.65628711 0.6866331\n",
            " 0.70746762 0.69121892 0.66778012 0.68046194 0.68476474 0.66336406\n",
            " 0.67451734 0.68527432 0.69042631 0.66761026 0.6742909  0.68012222\n",
            " 0.66727054 0.66800657 0.6000679  0.59117929 0.58778239 0.60193627\n",
            " 0.58665005 0.58308329 0.57085436 0.57221303 0.55545487 0.55681365\n",
            " 0.56478453 0.56181073 0.56032264 0.5599426 ]\n",
            "4 day output [[0.5603227]]\n",
            "5 day input [0.4973107  0.52663763 0.49504614 0.50161349 0.47879744 0.44278999\n",
            " 0.43548661 0.4044047  0.40327236 0.35554545 0.3928551  0.38702367\n",
            " 0.3737191  0.39240221 0.4137462  0.42116286 0.43050448 0.4384872\n",
            " 0.43837403 0.41963422 0.41838872 0.44941404 0.44528111 0.43599619\n",
            " 0.51265361 0.51876808 0.55154838 0.54141426 0.56287153 0.56111644\n",
            " 0.58636691 0.55279399 0.55307702 0.52199511 0.52318404 0.51599393\n",
            " 0.52646777 0.54475458 0.54860437 0.51944741 0.53609241 0.55568131\n",
            " 0.61722238 0.63992525 0.59242479 0.588122   0.62135531 0.64134062\n",
            " 0.66806315 0.65022923 0.68312292 0.69133209 0.64502066 0.64632275\n",
            " 0.63941567 0.69971123 0.69637091 0.66472284 0.68102811 0.69665405\n",
            " 0.67530995 0.69880534 0.68657641 0.6977297  0.68261334 0.65238063\n",
            " 0.68431185 0.6780841  0.66647793 0.65628711 0.6866331  0.70746762\n",
            " 0.69121892 0.66778012 0.68046194 0.68476474 0.66336406 0.67451734\n",
            " 0.68527432 0.69042631 0.66761026 0.6742909  0.68012222 0.66727054\n",
            " 0.66800657 0.6000679  0.59117929 0.58778239 0.60193627 0.58665005\n",
            " 0.58308329 0.57085436 0.57221303 0.55545487 0.55681365 0.56478453\n",
            " 0.56181073 0.56032264 0.5599426  0.5603227 ]\n",
            "5 day output [[0.561193]]\n",
            "6 day input [0.52663763 0.49504614 0.50161349 0.47879744 0.44278999 0.43548661\n",
            " 0.4044047  0.40327236 0.35554545 0.3928551  0.38702367 0.3737191\n",
            " 0.39240221 0.4137462  0.42116286 0.43050448 0.4384872  0.43837403\n",
            " 0.41963422 0.41838872 0.44941404 0.44528111 0.43599619 0.51265361\n",
            " 0.51876808 0.55154838 0.54141426 0.56287153 0.56111644 0.58636691\n",
            " 0.55279399 0.55307702 0.52199511 0.52318404 0.51599393 0.52646777\n",
            " 0.54475458 0.54860437 0.51944741 0.53609241 0.55568131 0.61722238\n",
            " 0.63992525 0.59242479 0.588122   0.62135531 0.64134062 0.66806315\n",
            " 0.65022923 0.68312292 0.69133209 0.64502066 0.64632275 0.63941567\n",
            " 0.69971123 0.69637091 0.66472284 0.68102811 0.69665405 0.67530995\n",
            " 0.69880534 0.68657641 0.6977297  0.68261334 0.65238063 0.68431185\n",
            " 0.6780841  0.66647793 0.65628711 0.6866331  0.70746762 0.69121892\n",
            " 0.66778012 0.68046194 0.68476474 0.66336406 0.67451734 0.68527432\n",
            " 0.69042631 0.66761026 0.6742909  0.68012222 0.66727054 0.66800657\n",
            " 0.6000679  0.59117929 0.58778239 0.60193627 0.58665005 0.58308329\n",
            " 0.57085436 0.57221303 0.55545487 0.55681365 0.56478453 0.56181073\n",
            " 0.56032264 0.5599426  0.5603227  0.56119299]\n",
            "6 day output [[0.56236327]]\n",
            "7 day input [0.49504614 0.50161349 0.47879744 0.44278999 0.43548661 0.4044047\n",
            " 0.40327236 0.35554545 0.3928551  0.38702367 0.3737191  0.39240221\n",
            " 0.4137462  0.42116286 0.43050448 0.4384872  0.43837403 0.41963422\n",
            " 0.41838872 0.44941404 0.44528111 0.43599619 0.51265361 0.51876808\n",
            " 0.55154838 0.54141426 0.56287153 0.56111644 0.58636691 0.55279399\n",
            " 0.55307702 0.52199511 0.52318404 0.51599393 0.52646777 0.54475458\n",
            " 0.54860437 0.51944741 0.53609241 0.55568131 0.61722238 0.63992525\n",
            " 0.59242479 0.588122   0.62135531 0.64134062 0.66806315 0.65022923\n",
            " 0.68312292 0.69133209 0.64502066 0.64632275 0.63941567 0.69971123\n",
            " 0.69637091 0.66472284 0.68102811 0.69665405 0.67530995 0.69880534\n",
            " 0.68657641 0.6977297  0.68261334 0.65238063 0.68431185 0.6780841\n",
            " 0.66647793 0.65628711 0.6866331  0.70746762 0.69121892 0.66778012\n",
            " 0.68046194 0.68476474 0.66336406 0.67451734 0.68527432 0.69042631\n",
            " 0.66761026 0.6742909  0.68012222 0.66727054 0.66800657 0.6000679\n",
            " 0.59117929 0.58778239 0.60193627 0.58665005 0.58308329 0.57085436\n",
            " 0.57221303 0.55545487 0.55681365 0.56478453 0.56181073 0.56032264\n",
            " 0.5599426  0.5603227  0.56119299 0.56236327]\n",
            "7 day output [[0.5637098]]\n",
            "8 day input [0.50161349 0.47879744 0.44278999 0.43548661 0.4044047  0.40327236\n",
            " 0.35554545 0.3928551  0.38702367 0.3737191  0.39240221 0.4137462\n",
            " 0.42116286 0.43050448 0.4384872  0.43837403 0.41963422 0.41838872\n",
            " 0.44941404 0.44528111 0.43599619 0.51265361 0.51876808 0.55154838\n",
            " 0.54141426 0.56287153 0.56111644 0.58636691 0.55279399 0.55307702\n",
            " 0.52199511 0.52318404 0.51599393 0.52646777 0.54475458 0.54860437\n",
            " 0.51944741 0.53609241 0.55568131 0.61722238 0.63992525 0.59242479\n",
            " 0.588122   0.62135531 0.64134062 0.66806315 0.65022923 0.68312292\n",
            " 0.69133209 0.64502066 0.64632275 0.63941567 0.69971123 0.69637091\n",
            " 0.66472284 0.68102811 0.69665405 0.67530995 0.69880534 0.68657641\n",
            " 0.6977297  0.68261334 0.65238063 0.68431185 0.6780841  0.66647793\n",
            " 0.65628711 0.6866331  0.70746762 0.69121892 0.66778012 0.68046194\n",
            " 0.68476474 0.66336406 0.67451734 0.68527432 0.69042631 0.66761026\n",
            " 0.6742909  0.68012222 0.66727054 0.66800657 0.6000679  0.59117929\n",
            " 0.58778239 0.60193627 0.58665005 0.58308329 0.57085436 0.57221303\n",
            " 0.55545487 0.55681365 0.56478453 0.56181073 0.56032264 0.5599426\n",
            " 0.5603227  0.56119299 0.56236327 0.5637098 ]\n",
            "8 day output [[0.56515527]]\n",
            "9 day input [0.47879744 0.44278999 0.43548661 0.4044047  0.40327236 0.35554545\n",
            " 0.3928551  0.38702367 0.3737191  0.39240221 0.4137462  0.42116286\n",
            " 0.43050448 0.4384872  0.43837403 0.41963422 0.41838872 0.44941404\n",
            " 0.44528111 0.43599619 0.51265361 0.51876808 0.55154838 0.54141426\n",
            " 0.56287153 0.56111644 0.58636691 0.55279399 0.55307702 0.52199511\n",
            " 0.52318404 0.51599393 0.52646777 0.54475458 0.54860437 0.51944741\n",
            " 0.53609241 0.55568131 0.61722238 0.63992525 0.59242479 0.588122\n",
            " 0.62135531 0.64134062 0.66806315 0.65022923 0.68312292 0.69133209\n",
            " 0.64502066 0.64632275 0.63941567 0.69971123 0.69637091 0.66472284\n",
            " 0.68102811 0.69665405 0.67530995 0.69880534 0.68657641 0.6977297\n",
            " 0.68261334 0.65238063 0.68431185 0.6780841  0.66647793 0.65628711\n",
            " 0.6866331  0.70746762 0.69121892 0.66778012 0.68046194 0.68476474\n",
            " 0.66336406 0.67451734 0.68527432 0.69042631 0.66761026 0.6742909\n",
            " 0.68012222 0.66727054 0.66800657 0.6000679  0.59117929 0.58778239\n",
            " 0.60193627 0.58665005 0.58308329 0.57085436 0.57221303 0.55545487\n",
            " 0.55681365 0.56478453 0.56181073 0.56032264 0.5599426  0.5603227\n",
            " 0.56119299 0.56236327 0.5637098  0.56515527]\n",
            "9 day output [[0.5666524]]\n",
            "10 day input [0.44278999 0.43548661 0.4044047  0.40327236 0.35554545 0.3928551\n",
            " 0.38702367 0.3737191  0.39240221 0.4137462  0.42116286 0.43050448\n",
            " 0.4384872  0.43837403 0.41963422 0.41838872 0.44941404 0.44528111\n",
            " 0.43599619 0.51265361 0.51876808 0.55154838 0.54141426 0.56287153\n",
            " 0.56111644 0.58636691 0.55279399 0.55307702 0.52199511 0.52318404\n",
            " 0.51599393 0.52646777 0.54475458 0.54860437 0.51944741 0.53609241\n",
            " 0.55568131 0.61722238 0.63992525 0.59242479 0.588122   0.62135531\n",
            " 0.64134062 0.66806315 0.65022923 0.68312292 0.69133209 0.64502066\n",
            " 0.64632275 0.63941567 0.69971123 0.69637091 0.66472284 0.68102811\n",
            " 0.69665405 0.67530995 0.69880534 0.68657641 0.6977297  0.68261334\n",
            " 0.65238063 0.68431185 0.6780841  0.66647793 0.65628711 0.6866331\n",
            " 0.70746762 0.69121892 0.66778012 0.68046194 0.68476474 0.66336406\n",
            " 0.67451734 0.68527432 0.69042631 0.66761026 0.6742909  0.68012222\n",
            " 0.66727054 0.66800657 0.6000679  0.59117929 0.58778239 0.60193627\n",
            " 0.58665005 0.58308329 0.57085436 0.57221303 0.55545487 0.55681365\n",
            " 0.56478453 0.56181073 0.56032264 0.5599426  0.5603227  0.56119299\n",
            " 0.56236327 0.5637098  0.56515527 0.56665242]\n",
            "10 day output [[0.56817156]]\n",
            "11 day input [0.43548661 0.4044047  0.40327236 0.35554545 0.3928551  0.38702367\n",
            " 0.3737191  0.39240221 0.4137462  0.42116286 0.43050448 0.4384872\n",
            " 0.43837403 0.41963422 0.41838872 0.44941404 0.44528111 0.43599619\n",
            " 0.51265361 0.51876808 0.55154838 0.54141426 0.56287153 0.56111644\n",
            " 0.58636691 0.55279399 0.55307702 0.52199511 0.52318404 0.51599393\n",
            " 0.52646777 0.54475458 0.54860437 0.51944741 0.53609241 0.55568131\n",
            " 0.61722238 0.63992525 0.59242479 0.588122   0.62135531 0.64134062\n",
            " 0.66806315 0.65022923 0.68312292 0.69133209 0.64502066 0.64632275\n",
            " 0.63941567 0.69971123 0.69637091 0.66472284 0.68102811 0.69665405\n",
            " 0.67530995 0.69880534 0.68657641 0.6977297  0.68261334 0.65238063\n",
            " 0.68431185 0.6780841  0.66647793 0.65628711 0.6866331  0.70746762\n",
            " 0.69121892 0.66778012 0.68046194 0.68476474 0.66336406 0.67451734\n",
            " 0.68527432 0.69042631 0.66761026 0.6742909  0.68012222 0.66727054\n",
            " 0.66800657 0.6000679  0.59117929 0.58778239 0.60193627 0.58665005\n",
            " 0.58308329 0.57085436 0.57221303 0.55545487 0.55681365 0.56478453\n",
            " 0.56181073 0.56032264 0.5599426  0.5603227  0.56119299 0.56236327\n",
            " 0.5637098  0.56515527 0.56665242 0.56817156]\n",
            "11 day output [[0.5696938]]\n",
            "12 day input [0.4044047  0.40327236 0.35554545 0.3928551  0.38702367 0.3737191\n",
            " 0.39240221 0.4137462  0.42116286 0.43050448 0.4384872  0.43837403\n",
            " 0.41963422 0.41838872 0.44941404 0.44528111 0.43599619 0.51265361\n",
            " 0.51876808 0.55154838 0.54141426 0.56287153 0.56111644 0.58636691\n",
            " 0.55279399 0.55307702 0.52199511 0.52318404 0.51599393 0.52646777\n",
            " 0.54475458 0.54860437 0.51944741 0.53609241 0.55568131 0.61722238\n",
            " 0.63992525 0.59242479 0.588122   0.62135531 0.64134062 0.66806315\n",
            " 0.65022923 0.68312292 0.69133209 0.64502066 0.64632275 0.63941567\n",
            " 0.69971123 0.69637091 0.66472284 0.68102811 0.69665405 0.67530995\n",
            " 0.69880534 0.68657641 0.6977297  0.68261334 0.65238063 0.68431185\n",
            " 0.6780841  0.66647793 0.65628711 0.6866331  0.70746762 0.69121892\n",
            " 0.66778012 0.68046194 0.68476474 0.66336406 0.67451734 0.68527432\n",
            " 0.69042631 0.66761026 0.6742909  0.68012222 0.66727054 0.66800657\n",
            " 0.6000679  0.59117929 0.58778239 0.60193627 0.58665005 0.58308329\n",
            " 0.57085436 0.57221303 0.55545487 0.55681365 0.56478453 0.56181073\n",
            " 0.56032264 0.5599426  0.5603227  0.56119299 0.56236327 0.5637098\n",
            " 0.56515527 0.56665242 0.56817156 0.5696938 ]\n",
            "12 day output [[0.5712058]]\n",
            "13 day input [0.40327236 0.35554545 0.3928551  0.38702367 0.3737191  0.39240221\n",
            " 0.4137462  0.42116286 0.43050448 0.4384872  0.43837403 0.41963422\n",
            " 0.41838872 0.44941404 0.44528111 0.43599619 0.51265361 0.51876808\n",
            " 0.55154838 0.54141426 0.56287153 0.56111644 0.58636691 0.55279399\n",
            " 0.55307702 0.52199511 0.52318404 0.51599393 0.52646777 0.54475458\n",
            " 0.54860437 0.51944741 0.53609241 0.55568131 0.61722238 0.63992525\n",
            " 0.59242479 0.588122   0.62135531 0.64134062 0.66806315 0.65022923\n",
            " 0.68312292 0.69133209 0.64502066 0.64632275 0.63941567 0.69971123\n",
            " 0.69637091 0.66472284 0.68102811 0.69665405 0.67530995 0.69880534\n",
            " 0.68657641 0.6977297  0.68261334 0.65238063 0.68431185 0.6780841\n",
            " 0.66647793 0.65628711 0.6866331  0.70746762 0.69121892 0.66778012\n",
            " 0.68046194 0.68476474 0.66336406 0.67451734 0.68527432 0.69042631\n",
            " 0.66761026 0.6742909  0.68012222 0.66727054 0.66800657 0.6000679\n",
            " 0.59117929 0.58778239 0.60193627 0.58665005 0.58308329 0.57085436\n",
            " 0.57221303 0.55545487 0.55681365 0.56478453 0.56181073 0.56032264\n",
            " 0.5599426  0.5603227  0.56119299 0.56236327 0.5637098  0.56515527\n",
            " 0.56665242 0.56817156 0.5696938  0.57120579]\n",
            "13 day output [[0.57269794]]\n",
            "14 day input [0.35554545 0.3928551  0.38702367 0.3737191  0.39240221 0.4137462\n",
            " 0.42116286 0.43050448 0.4384872  0.43837403 0.41963422 0.41838872\n",
            " 0.44941404 0.44528111 0.43599619 0.51265361 0.51876808 0.55154838\n",
            " 0.54141426 0.56287153 0.56111644 0.58636691 0.55279399 0.55307702\n",
            " 0.52199511 0.52318404 0.51599393 0.52646777 0.54475458 0.54860437\n",
            " 0.51944741 0.53609241 0.55568131 0.61722238 0.63992525 0.59242479\n",
            " 0.588122   0.62135531 0.64134062 0.66806315 0.65022923 0.68312292\n",
            " 0.69133209 0.64502066 0.64632275 0.63941567 0.69971123 0.69637091\n",
            " 0.66472284 0.68102811 0.69665405 0.67530995 0.69880534 0.68657641\n",
            " 0.6977297  0.68261334 0.65238063 0.68431185 0.6780841  0.66647793\n",
            " 0.65628711 0.6866331  0.70746762 0.69121892 0.66778012 0.68046194\n",
            " 0.68476474 0.66336406 0.67451734 0.68527432 0.69042631 0.66761026\n",
            " 0.6742909  0.68012222 0.66727054 0.66800657 0.6000679  0.59117929\n",
            " 0.58778239 0.60193627 0.58665005 0.58308329 0.57085436 0.57221303\n",
            " 0.55545487 0.55681365 0.56478453 0.56181073 0.56032264 0.5599426\n",
            " 0.5603227  0.56119299 0.56236327 0.5637098  0.56515527 0.56665242\n",
            " 0.56817156 0.5696938  0.57120579 0.57269794]\n",
            "14 day output [[0.5741636]]\n",
            "15 day input [0.3928551  0.38702367 0.3737191  0.39240221 0.4137462  0.42116286\n",
            " 0.43050448 0.4384872  0.43837403 0.41963422 0.41838872 0.44941404\n",
            " 0.44528111 0.43599619 0.51265361 0.51876808 0.55154838 0.54141426\n",
            " 0.56287153 0.56111644 0.58636691 0.55279399 0.55307702 0.52199511\n",
            " 0.52318404 0.51599393 0.52646777 0.54475458 0.54860437 0.51944741\n",
            " 0.53609241 0.55568131 0.61722238 0.63992525 0.59242479 0.588122\n",
            " 0.62135531 0.64134062 0.66806315 0.65022923 0.68312292 0.69133209\n",
            " 0.64502066 0.64632275 0.63941567 0.69971123 0.69637091 0.66472284\n",
            " 0.68102811 0.69665405 0.67530995 0.69880534 0.68657641 0.6977297\n",
            " 0.68261334 0.65238063 0.68431185 0.6780841  0.66647793 0.65628711\n",
            " 0.6866331  0.70746762 0.69121892 0.66778012 0.68046194 0.68476474\n",
            " 0.66336406 0.67451734 0.68527432 0.69042631 0.66761026 0.6742909\n",
            " 0.68012222 0.66727054 0.66800657 0.6000679  0.59117929 0.58778239\n",
            " 0.60193627 0.58665005 0.58308329 0.57085436 0.57221303 0.55545487\n",
            " 0.55681365 0.56478453 0.56181073 0.56032264 0.5599426  0.5603227\n",
            " 0.56119299 0.56236327 0.5637098  0.56515527 0.56665242 0.56817156\n",
            " 0.5696938  0.57120579 0.57269794 0.57416362]\n",
            "15 day output [[0.5755981]]\n",
            "16 day input [0.38702367 0.3737191  0.39240221 0.4137462  0.42116286 0.43050448\n",
            " 0.4384872  0.43837403 0.41963422 0.41838872 0.44941404 0.44528111\n",
            " 0.43599619 0.51265361 0.51876808 0.55154838 0.54141426 0.56287153\n",
            " 0.56111644 0.58636691 0.55279399 0.55307702 0.52199511 0.52318404\n",
            " 0.51599393 0.52646777 0.54475458 0.54860437 0.51944741 0.53609241\n",
            " 0.55568131 0.61722238 0.63992525 0.59242479 0.588122   0.62135531\n",
            " 0.64134062 0.66806315 0.65022923 0.68312292 0.69133209 0.64502066\n",
            " 0.64632275 0.63941567 0.69971123 0.69637091 0.66472284 0.68102811\n",
            " 0.69665405 0.67530995 0.69880534 0.68657641 0.6977297  0.68261334\n",
            " 0.65238063 0.68431185 0.6780841  0.66647793 0.65628711 0.6866331\n",
            " 0.70746762 0.69121892 0.66778012 0.68046194 0.68476474 0.66336406\n",
            " 0.67451734 0.68527432 0.69042631 0.66761026 0.6742909  0.68012222\n",
            " 0.66727054 0.66800657 0.6000679  0.59117929 0.58778239 0.60193627\n",
            " 0.58665005 0.58308329 0.57085436 0.57221303 0.55545487 0.55681365\n",
            " 0.56478453 0.56181073 0.56032264 0.5599426  0.5603227  0.56119299\n",
            " 0.56236327 0.5637098  0.56515527 0.56665242 0.56817156 0.5696938\n",
            " 0.57120579 0.57269794 0.57416362 0.57559812]\n",
            "16 day output [[0.57699853]]\n",
            "17 day input [0.3737191  0.39240221 0.4137462  0.42116286 0.43050448 0.4384872\n",
            " 0.43837403 0.41963422 0.41838872 0.44941404 0.44528111 0.43599619\n",
            " 0.51265361 0.51876808 0.55154838 0.54141426 0.56287153 0.56111644\n",
            " 0.58636691 0.55279399 0.55307702 0.52199511 0.52318404 0.51599393\n",
            " 0.52646777 0.54475458 0.54860437 0.51944741 0.53609241 0.55568131\n",
            " 0.61722238 0.63992525 0.59242479 0.588122   0.62135531 0.64134062\n",
            " 0.66806315 0.65022923 0.68312292 0.69133209 0.64502066 0.64632275\n",
            " 0.63941567 0.69971123 0.69637091 0.66472284 0.68102811 0.69665405\n",
            " 0.67530995 0.69880534 0.68657641 0.6977297  0.68261334 0.65238063\n",
            " 0.68431185 0.6780841  0.66647793 0.65628711 0.6866331  0.70746762\n",
            " 0.69121892 0.66778012 0.68046194 0.68476474 0.66336406 0.67451734\n",
            " 0.68527432 0.69042631 0.66761026 0.6742909  0.68012222 0.66727054\n",
            " 0.66800657 0.6000679  0.59117929 0.58778239 0.60193627 0.58665005\n",
            " 0.58308329 0.57085436 0.57221303 0.55545487 0.55681365 0.56478453\n",
            " 0.56181073 0.56032264 0.5599426  0.5603227  0.56119299 0.56236327\n",
            " 0.5637098  0.56515527 0.56665242 0.56817156 0.5696938  0.57120579\n",
            " 0.57269794 0.57416362 0.57559812 0.57699853]\n",
            "17 day output [[0.5783632]]\n",
            "18 day input [0.39240221 0.4137462  0.42116286 0.43050448 0.4384872  0.43837403\n",
            " 0.41963422 0.41838872 0.44941404 0.44528111 0.43599619 0.51265361\n",
            " 0.51876808 0.55154838 0.54141426 0.56287153 0.56111644 0.58636691\n",
            " 0.55279399 0.55307702 0.52199511 0.52318404 0.51599393 0.52646777\n",
            " 0.54475458 0.54860437 0.51944741 0.53609241 0.55568131 0.61722238\n",
            " 0.63992525 0.59242479 0.588122   0.62135531 0.64134062 0.66806315\n",
            " 0.65022923 0.68312292 0.69133209 0.64502066 0.64632275 0.63941567\n",
            " 0.69971123 0.69637091 0.66472284 0.68102811 0.69665405 0.67530995\n",
            " 0.69880534 0.68657641 0.6977297  0.68261334 0.65238063 0.68431185\n",
            " 0.6780841  0.66647793 0.65628711 0.6866331  0.70746762 0.69121892\n",
            " 0.66778012 0.68046194 0.68476474 0.66336406 0.67451734 0.68527432\n",
            " 0.69042631 0.66761026 0.6742909  0.68012222 0.66727054 0.66800657\n",
            " 0.6000679  0.59117929 0.58778239 0.60193627 0.58665005 0.58308329\n",
            " 0.57085436 0.57221303 0.55545487 0.55681365 0.56478453 0.56181073\n",
            " 0.56032264 0.5599426  0.5603227  0.56119299 0.56236327 0.5637098\n",
            " 0.56515527 0.56665242 0.56817156 0.5696938  0.57120579 0.57269794\n",
            " 0.57416362 0.57559812 0.57699853 0.57836318]\n",
            "18 day output [[0.57969195]]\n",
            "19 day input [0.4137462  0.42116286 0.43050448 0.4384872  0.43837403 0.41963422\n",
            " 0.41838872 0.44941404 0.44528111 0.43599619 0.51265361 0.51876808\n",
            " 0.55154838 0.54141426 0.56287153 0.56111644 0.58636691 0.55279399\n",
            " 0.55307702 0.52199511 0.52318404 0.51599393 0.52646777 0.54475458\n",
            " 0.54860437 0.51944741 0.53609241 0.55568131 0.61722238 0.63992525\n",
            " 0.59242479 0.588122   0.62135531 0.64134062 0.66806315 0.65022923\n",
            " 0.68312292 0.69133209 0.64502066 0.64632275 0.63941567 0.69971123\n",
            " 0.69637091 0.66472284 0.68102811 0.69665405 0.67530995 0.69880534\n",
            " 0.68657641 0.6977297  0.68261334 0.65238063 0.68431185 0.6780841\n",
            " 0.66647793 0.65628711 0.6866331  0.70746762 0.69121892 0.66778012\n",
            " 0.68046194 0.68476474 0.66336406 0.67451734 0.68527432 0.69042631\n",
            " 0.66761026 0.6742909  0.68012222 0.66727054 0.66800657 0.6000679\n",
            " 0.59117929 0.58778239 0.60193627 0.58665005 0.58308329 0.57085436\n",
            " 0.57221303 0.55545487 0.55681365 0.56478453 0.56181073 0.56032264\n",
            " 0.5599426  0.5603227  0.56119299 0.56236327 0.5637098  0.56515527\n",
            " 0.56665242 0.56817156 0.5696938  0.57120579 0.57269794 0.57416362\n",
            " 0.57559812 0.57699853 0.57836318 0.57969195]\n",
            "19 day output [[0.58098525]]\n",
            "20 day input [0.42116286 0.43050448 0.4384872  0.43837403 0.41963422 0.41838872\n",
            " 0.44941404 0.44528111 0.43599619 0.51265361 0.51876808 0.55154838\n",
            " 0.54141426 0.56287153 0.56111644 0.58636691 0.55279399 0.55307702\n",
            " 0.52199511 0.52318404 0.51599393 0.52646777 0.54475458 0.54860437\n",
            " 0.51944741 0.53609241 0.55568131 0.61722238 0.63992525 0.59242479\n",
            " 0.588122   0.62135531 0.64134062 0.66806315 0.65022923 0.68312292\n",
            " 0.69133209 0.64502066 0.64632275 0.63941567 0.69971123 0.69637091\n",
            " 0.66472284 0.68102811 0.69665405 0.67530995 0.69880534 0.68657641\n",
            " 0.6977297  0.68261334 0.65238063 0.68431185 0.6780841  0.66647793\n",
            " 0.65628711 0.6866331  0.70746762 0.69121892 0.66778012 0.68046194\n",
            " 0.68476474 0.66336406 0.67451734 0.68527432 0.69042631 0.66761026\n",
            " 0.6742909  0.68012222 0.66727054 0.66800657 0.6000679  0.59117929\n",
            " 0.58778239 0.60193627 0.58665005 0.58308329 0.57085436 0.57221303\n",
            " 0.55545487 0.55681365 0.56478453 0.56181073 0.56032264 0.5599426\n",
            " 0.5603227  0.56119299 0.56236327 0.5637098  0.56515527 0.56665242\n",
            " 0.56817156 0.5696938  0.57120579 0.57269794 0.57416362 0.57559812\n",
            " 0.57699853 0.57836318 0.57969195 0.58098525]\n",
            "20 day output [[0.582244]]\n",
            "21 day input [0.43050448 0.4384872  0.43837403 0.41963422 0.41838872 0.44941404\n",
            " 0.44528111 0.43599619 0.51265361 0.51876808 0.55154838 0.54141426\n",
            " 0.56287153 0.56111644 0.58636691 0.55279399 0.55307702 0.52199511\n",
            " 0.52318404 0.51599393 0.52646777 0.54475458 0.54860437 0.51944741\n",
            " 0.53609241 0.55568131 0.61722238 0.63992525 0.59242479 0.588122\n",
            " 0.62135531 0.64134062 0.66806315 0.65022923 0.68312292 0.69133209\n",
            " 0.64502066 0.64632275 0.63941567 0.69971123 0.69637091 0.66472284\n",
            " 0.68102811 0.69665405 0.67530995 0.69880534 0.68657641 0.6977297\n",
            " 0.68261334 0.65238063 0.68431185 0.6780841  0.66647793 0.65628711\n",
            " 0.6866331  0.70746762 0.69121892 0.66778012 0.68046194 0.68476474\n",
            " 0.66336406 0.67451734 0.68527432 0.69042631 0.66761026 0.6742909\n",
            " 0.68012222 0.66727054 0.66800657 0.6000679  0.59117929 0.58778239\n",
            " 0.60193627 0.58665005 0.58308329 0.57085436 0.57221303 0.55545487\n",
            " 0.55681365 0.56478453 0.56181073 0.56032264 0.5599426  0.5603227\n",
            " 0.56119299 0.56236327 0.5637098  0.56515527 0.56665242 0.56817156\n",
            " 0.5696938  0.57120579 0.57269794 0.57416362 0.57559812 0.57699853\n",
            " 0.57836318 0.57969195 0.58098525 0.58224398]\n",
            "21 day output [[0.5834696]]\n",
            "22 day input [0.4384872  0.43837403 0.41963422 0.41838872 0.44941404 0.44528111\n",
            " 0.43599619 0.51265361 0.51876808 0.55154838 0.54141426 0.56287153\n",
            " 0.56111644 0.58636691 0.55279399 0.55307702 0.52199511 0.52318404\n",
            " 0.51599393 0.52646777 0.54475458 0.54860437 0.51944741 0.53609241\n",
            " 0.55568131 0.61722238 0.63992525 0.59242479 0.588122   0.62135531\n",
            " 0.64134062 0.66806315 0.65022923 0.68312292 0.69133209 0.64502066\n",
            " 0.64632275 0.63941567 0.69971123 0.69637091 0.66472284 0.68102811\n",
            " 0.69665405 0.67530995 0.69880534 0.68657641 0.6977297  0.68261334\n",
            " 0.65238063 0.68431185 0.6780841  0.66647793 0.65628711 0.6866331\n",
            " 0.70746762 0.69121892 0.66778012 0.68046194 0.68476474 0.66336406\n",
            " 0.67451734 0.68527432 0.69042631 0.66761026 0.6742909  0.68012222\n",
            " 0.66727054 0.66800657 0.6000679  0.59117929 0.58778239 0.60193627\n",
            " 0.58665005 0.58308329 0.57085436 0.57221303 0.55545487 0.55681365\n",
            " 0.56478453 0.56181073 0.56032264 0.5599426  0.5603227  0.56119299\n",
            " 0.56236327 0.5637098  0.56515527 0.56665242 0.56817156 0.5696938\n",
            " 0.57120579 0.57269794 0.57416362 0.57559812 0.57699853 0.57836318\n",
            " 0.57969195 0.58098525 0.58224398 0.58346963]\n",
            "22 day output [[0.58466345]]\n",
            "23 day input [0.43837403 0.41963422 0.41838872 0.44941404 0.44528111 0.43599619\n",
            " 0.51265361 0.51876808 0.55154838 0.54141426 0.56287153 0.56111644\n",
            " 0.58636691 0.55279399 0.55307702 0.52199511 0.52318404 0.51599393\n",
            " 0.52646777 0.54475458 0.54860437 0.51944741 0.53609241 0.55568131\n",
            " 0.61722238 0.63992525 0.59242479 0.588122   0.62135531 0.64134062\n",
            " 0.66806315 0.65022923 0.68312292 0.69133209 0.64502066 0.64632275\n",
            " 0.63941567 0.69971123 0.69637091 0.66472284 0.68102811 0.69665405\n",
            " 0.67530995 0.69880534 0.68657641 0.6977297  0.68261334 0.65238063\n",
            " 0.68431185 0.6780841  0.66647793 0.65628711 0.6866331  0.70746762\n",
            " 0.69121892 0.66778012 0.68046194 0.68476474 0.66336406 0.67451734\n",
            " 0.68527432 0.69042631 0.66761026 0.6742909  0.68012222 0.66727054\n",
            " 0.66800657 0.6000679  0.59117929 0.58778239 0.60193627 0.58665005\n",
            " 0.58308329 0.57085436 0.57221303 0.55545487 0.55681365 0.56478453\n",
            " 0.56181073 0.56032264 0.5599426  0.5603227  0.56119299 0.56236327\n",
            " 0.5637098  0.56515527 0.56665242 0.56817156 0.5696938  0.57120579\n",
            " 0.57269794 0.57416362 0.57559812 0.57699853 0.57836318 0.57969195\n",
            " 0.58098525 0.58224398 0.58346963 0.58466345]\n",
            "23 day output [[0.5858266]]\n",
            "24 day input [0.41963422 0.41838872 0.44941404 0.44528111 0.43599619 0.51265361\n",
            " 0.51876808 0.55154838 0.54141426 0.56287153 0.56111644 0.58636691\n",
            " 0.55279399 0.55307702 0.52199511 0.52318404 0.51599393 0.52646777\n",
            " 0.54475458 0.54860437 0.51944741 0.53609241 0.55568131 0.61722238\n",
            " 0.63992525 0.59242479 0.588122   0.62135531 0.64134062 0.66806315\n",
            " 0.65022923 0.68312292 0.69133209 0.64502066 0.64632275 0.63941567\n",
            " 0.69971123 0.69637091 0.66472284 0.68102811 0.69665405 0.67530995\n",
            " 0.69880534 0.68657641 0.6977297  0.68261334 0.65238063 0.68431185\n",
            " 0.6780841  0.66647793 0.65628711 0.6866331  0.70746762 0.69121892\n",
            " 0.66778012 0.68046194 0.68476474 0.66336406 0.67451734 0.68527432\n",
            " 0.69042631 0.66761026 0.6742909  0.68012222 0.66727054 0.66800657\n",
            " 0.6000679  0.59117929 0.58778239 0.60193627 0.58665005 0.58308329\n",
            " 0.57085436 0.57221303 0.55545487 0.55681365 0.56478453 0.56181073\n",
            " 0.56032264 0.5599426  0.5603227  0.56119299 0.56236327 0.5637098\n",
            " 0.56515527 0.56665242 0.56817156 0.5696938  0.57120579 0.57269794\n",
            " 0.57416362 0.57559812 0.57699853 0.57836318 0.57969195 0.58098525\n",
            " 0.58224398 0.58346963 0.58466345 0.58582658]\n",
            "24 day output [[0.5869604]]\n",
            "25 day input [0.41838872 0.44941404 0.44528111 0.43599619 0.51265361 0.51876808\n",
            " 0.55154838 0.54141426 0.56287153 0.56111644 0.58636691 0.55279399\n",
            " 0.55307702 0.52199511 0.52318404 0.51599393 0.52646777 0.54475458\n",
            " 0.54860437 0.51944741 0.53609241 0.55568131 0.61722238 0.63992525\n",
            " 0.59242479 0.588122   0.62135531 0.64134062 0.66806315 0.65022923\n",
            " 0.68312292 0.69133209 0.64502066 0.64632275 0.63941567 0.69971123\n",
            " 0.69637091 0.66472284 0.68102811 0.69665405 0.67530995 0.69880534\n",
            " 0.68657641 0.6977297  0.68261334 0.65238063 0.68431185 0.6780841\n",
            " 0.66647793 0.65628711 0.6866331  0.70746762 0.69121892 0.66778012\n",
            " 0.68046194 0.68476474 0.66336406 0.67451734 0.68527432 0.69042631\n",
            " 0.66761026 0.6742909  0.68012222 0.66727054 0.66800657 0.6000679\n",
            " 0.59117929 0.58778239 0.60193627 0.58665005 0.58308329 0.57085436\n",
            " 0.57221303 0.55545487 0.55681365 0.56478453 0.56181073 0.56032264\n",
            " 0.5599426  0.5603227  0.56119299 0.56236327 0.5637098  0.56515527\n",
            " 0.56665242 0.56817156 0.5696938  0.57120579 0.57269794 0.57416362\n",
            " 0.57559812 0.57699853 0.57836318 0.57969195 0.58098525 0.58224398\n",
            " 0.58346963 0.58466345 0.58582658 0.58696038]\n",
            "25 day output [[0.58806545]]\n",
            "26 day input [0.44941404 0.44528111 0.43599619 0.51265361 0.51876808 0.55154838\n",
            " 0.54141426 0.56287153 0.56111644 0.58636691 0.55279399 0.55307702\n",
            " 0.52199511 0.52318404 0.51599393 0.52646777 0.54475458 0.54860437\n",
            " 0.51944741 0.53609241 0.55568131 0.61722238 0.63992525 0.59242479\n",
            " 0.588122   0.62135531 0.64134062 0.66806315 0.65022923 0.68312292\n",
            " 0.69133209 0.64502066 0.64632275 0.63941567 0.69971123 0.69637091\n",
            " 0.66472284 0.68102811 0.69665405 0.67530995 0.69880534 0.68657641\n",
            " 0.6977297  0.68261334 0.65238063 0.68431185 0.6780841  0.66647793\n",
            " 0.65628711 0.6866331  0.70746762 0.69121892 0.66778012 0.68046194\n",
            " 0.68476474 0.66336406 0.67451734 0.68527432 0.69042631 0.66761026\n",
            " 0.6742909  0.68012222 0.66727054 0.66800657 0.6000679  0.59117929\n",
            " 0.58778239 0.60193627 0.58665005 0.58308329 0.57085436 0.57221303\n",
            " 0.55545487 0.55681365 0.56478453 0.56181073 0.56032264 0.5599426\n",
            " 0.5603227  0.56119299 0.56236327 0.5637098  0.56515527 0.56665242\n",
            " 0.56817156 0.5696938  0.57120579 0.57269794 0.57416362 0.57559812\n",
            " 0.57699853 0.57836318 0.57969195 0.58098525 0.58224398 0.58346963\n",
            " 0.58466345 0.58582658 0.58696038 0.58806545]\n",
            "26 day output [[0.5891426]]\n",
            "27 day input [0.44528111 0.43599619 0.51265361 0.51876808 0.55154838 0.54141426\n",
            " 0.56287153 0.56111644 0.58636691 0.55279399 0.55307702 0.52199511\n",
            " 0.52318404 0.51599393 0.52646777 0.54475458 0.54860437 0.51944741\n",
            " 0.53609241 0.55568131 0.61722238 0.63992525 0.59242479 0.588122\n",
            " 0.62135531 0.64134062 0.66806315 0.65022923 0.68312292 0.69133209\n",
            " 0.64502066 0.64632275 0.63941567 0.69971123 0.69637091 0.66472284\n",
            " 0.68102811 0.69665405 0.67530995 0.69880534 0.68657641 0.6977297\n",
            " 0.68261334 0.65238063 0.68431185 0.6780841  0.66647793 0.65628711\n",
            " 0.6866331  0.70746762 0.69121892 0.66778012 0.68046194 0.68476474\n",
            " 0.66336406 0.67451734 0.68527432 0.69042631 0.66761026 0.6742909\n",
            " 0.68012222 0.66727054 0.66800657 0.6000679  0.59117929 0.58778239\n",
            " 0.60193627 0.58665005 0.58308329 0.57085436 0.57221303 0.55545487\n",
            " 0.55681365 0.56478453 0.56181073 0.56032264 0.5599426  0.5603227\n",
            " 0.56119299 0.56236327 0.5637098  0.56515527 0.56665242 0.56817156\n",
            " 0.5696938  0.57120579 0.57269794 0.57416362 0.57559812 0.57699853\n",
            " 0.57836318 0.57969195 0.58098525 0.58224398 0.58346963 0.58466345\n",
            " 0.58582658 0.58696038 0.58806545 0.58914262]\n",
            "27 day output [[0.59019226]]\n",
            "28 day input [0.43599619 0.51265361 0.51876808 0.55154838 0.54141426 0.56287153\n",
            " 0.56111644 0.58636691 0.55279399 0.55307702 0.52199511 0.52318404\n",
            " 0.51599393 0.52646777 0.54475458 0.54860437 0.51944741 0.53609241\n",
            " 0.55568131 0.61722238 0.63992525 0.59242479 0.588122   0.62135531\n",
            " 0.64134062 0.66806315 0.65022923 0.68312292 0.69133209 0.64502066\n",
            " 0.64632275 0.63941567 0.69971123 0.69637091 0.66472284 0.68102811\n",
            " 0.69665405 0.67530995 0.69880534 0.68657641 0.6977297  0.68261334\n",
            " 0.65238063 0.68431185 0.6780841  0.66647793 0.65628711 0.6866331\n",
            " 0.70746762 0.69121892 0.66778012 0.68046194 0.68476474 0.66336406\n",
            " 0.67451734 0.68527432 0.69042631 0.66761026 0.6742909  0.68012222\n",
            " 0.66727054 0.66800657 0.6000679  0.59117929 0.58778239 0.60193627\n",
            " 0.58665005 0.58308329 0.57085436 0.57221303 0.55545487 0.55681365\n",
            " 0.56478453 0.56181073 0.56032264 0.5599426  0.5603227  0.56119299\n",
            " 0.56236327 0.5637098  0.56515527 0.56665242 0.56817156 0.5696938\n",
            " 0.57120579 0.57269794 0.57416362 0.57559812 0.57699853 0.57836318\n",
            " 0.57969195 0.58098525 0.58224398 0.58346963 0.58466345 0.58582658\n",
            " 0.58696038 0.58806545 0.58914262 0.59019226]\n",
            "28 day output [[0.5912147]]\n",
            "29 day input [0.51265361 0.51876808 0.55154838 0.54141426 0.56287153 0.56111644\n",
            " 0.58636691 0.55279399 0.55307702 0.52199511 0.52318404 0.51599393\n",
            " 0.52646777 0.54475458 0.54860437 0.51944741 0.53609241 0.55568131\n",
            " 0.61722238 0.63992525 0.59242479 0.588122   0.62135531 0.64134062\n",
            " 0.66806315 0.65022923 0.68312292 0.69133209 0.64502066 0.64632275\n",
            " 0.63941567 0.69971123 0.69637091 0.66472284 0.68102811 0.69665405\n",
            " 0.67530995 0.69880534 0.68657641 0.6977297  0.68261334 0.65238063\n",
            " 0.68431185 0.6780841  0.66647793 0.65628711 0.6866331  0.70746762\n",
            " 0.69121892 0.66778012 0.68046194 0.68476474 0.66336406 0.67451734\n",
            " 0.68527432 0.69042631 0.66761026 0.6742909  0.68012222 0.66727054\n",
            " 0.66800657 0.6000679  0.59117929 0.58778239 0.60193627 0.58665005\n",
            " 0.58308329 0.57085436 0.57221303 0.55545487 0.55681365 0.56478453\n",
            " 0.56181073 0.56032264 0.5599426  0.5603227  0.56119299 0.56236327\n",
            " 0.5637098  0.56515527 0.56665242 0.56817156 0.5696938  0.57120579\n",
            " 0.57269794 0.57416362 0.57559812 0.57699853 0.57836318 0.57969195\n",
            " 0.58098525 0.58224398 0.58346963 0.58466345 0.58582658 0.58696038\n",
            " 0.58806545 0.58914262 0.59019226 0.59121472]\n",
            "29 day output [[0.59220994]]\n",
            "[[0.5647845268249512], [0.5618107318878174], [0.560322642326355], [0.5599426031112671], [0.5603227019309998], [0.5611929893493652], [0.5623632669448853], [0.5637097954750061], [0.5651552677154541], [0.5666524171829224], [0.5681715607643127], [0.5696938037872314], [0.5712057948112488], [0.5726979374885559], [0.5741636157035828], [0.5755981206893921], [0.5769985318183899], [0.5783631801605225], [0.5796919465065002], [0.5809852480888367], [0.5822439789772034], [0.5834696292877197], [0.584663450717926], [0.585826575756073], [0.5869603753089905], [0.5880654454231262], [0.5891426205635071], [0.5901922583580017], [0.5912147164344788], [0.5922099351882935]]\n"
          ]
        }
      ]
    },
    {
      "cell_type": "code",
      "source": [
        "Day_New = np.arange(1,101)\n",
        "Day_Pred = np.arange(101,131)"
      ],
      "metadata": {
        "id": "cz-yXj5TKOoj"
      },
      "execution_count": 44,
      "outputs": []
    },
    {
      "cell_type": "code",
      "source": [
        "import matplotlib.pyplot as plt "
      ],
      "metadata": {
        "id": "WR5-S_poKjhJ"
      },
      "execution_count": 45,
      "outputs": []
    },
    {
      "cell_type": "code",
      "source": [
        "len(df1)"
      ],
      "metadata": {
        "colab": {
          "base_uri": "https://localhost:8080/"
        },
        "id": "cH0D62BzKqaR",
        "outputId": "a83fa135-8e4d-429a-bff8-00111e85826f"
      },
      "execution_count": 46,
      "outputs": [
        {
          "output_type": "execute_result",
          "data": {
            "text/plain": [
              "788"
            ]
          },
          "metadata": {},
          "execution_count": 46
        }
      ]
    },
    {
      "cell_type": "code",
      "source": [
        "df3 = df1.tolist()\n",
        "df3.extend(lst_output)"
      ],
      "metadata": {
        "id": "gWfyFtjbKv2j"
      },
      "execution_count": 47,
      "outputs": []
    },
    {
      "cell_type": "code",
      "source": [
        "plt.plot(Day_New,Scaler.inverse_transform(df1[688:]))\n",
        "plt.plot(Day_Pred,Scaler.inverse_transform(lst_output))"
      ],
      "metadata": {
        "colab": {
          "base_uri": "https://localhost:8080/",
          "height": 282
        },
        "id": "_vLnj3W0K5Vt",
        "outputId": "2763d61c-e2ea-4321-efdc-2e64b4b4927c"
      },
      "execution_count": 48,
      "outputs": [
        {
          "output_type": "execute_result",
          "data": {
            "text/plain": [
              "[<matplotlib.lines.Line2D at 0x7f809041ae20>]"
            ]
          },
          "metadata": {},
          "execution_count": 48
        },
        {
          "output_type": "display_data",
          "data": {
            "text/plain": [
              "<Figure size 432x288 with 1 Axes>"
            ],
            "image/png": "[encoded data removed]"
          },
          "metadata": {
            "needs_background": "light"
          }
        }
      ]
    }
  ]
}